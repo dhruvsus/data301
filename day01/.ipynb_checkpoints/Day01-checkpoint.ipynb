{
 "cells": [
  {
   "cell_type": "markdown",
   "metadata": {},
   "source": [
    "Before you turn this problem in, make sure everything runs as expected. First, **restart the kernel** (in the menubar, select Kernel$\\rightarrow$Restart) and then **run all cells** (in the menubar, select Cell$\\rightarrow$Run All).\n",
    "\n",
    "Make sure you fill in any place that says `YOUR CODE HERE` or \"YOUR ANSWER HERE\", as well as your name and collaborators below:"
   ]
  },
  {
   "cell_type": "code",
   "execution_count": null,
   "metadata": {},
   "outputs": [],
   "source": [
    "NAME = \"\"\n",
    "COLLABORATORS = \"\""
   ]
  },
  {
   "cell_type": "markdown",
   "metadata": {},
   "source": [
    "---"
   ]
  },
  {
   "cell_type": "markdown",
   "metadata": {},
   "source": [
    "# Day 1\n",
    "\n",
    "* Introduction to Data Science (Data 301)\n",
    "* Cal Poly, Winter 2018\n",
    "* Brian E. Granger"
   ]
  },
  {
   "cell_type": "markdown",
   "metadata": {},
   "source": [
    "## In class\n",
    "\n",
    "* Syllabus\n",
    "* Setup accounts on https://data301.calpolydatascience.org\n",
    "* Introduction to Jupyter\n",
    "* Introduction to nbgrader\n",
    "  - `cd` - go back to your home directory\n",
    "  - `nbgrader list --course data301`\n",
    "  - `nbgrader fetch --course data301 day01`\n",
    "* Download course materials:\n",
    "  - `cd` - go back to your home directory\n",
    "  - `git clone --recursive https://github.com/calpolydatascience/data301.git`\n",
    "* Today's material\n",
    "  - Workflow\n",
    "  - Programming\n",
    "* To reset/update course materials:\n",
    "  - `cd`\n",
    "  - `cd data301`\n",
    "  - `make update`"
   ]
  },
  {
   "cell_type": "markdown",
   "metadata": {},
   "source": [
    "## Out of class\n",
    "\n",
    "* Complete DataCamp assignment by 3pm, Thursday, day 2."
   ]
  }
 ],
 "metadata": {
  "kernelspec": {
   "display_name": "Python 3",
   "language": "python",
   "name": "python3"
  },
  "language_info": {
   "codemirror_mode": {
    "name": "ipython",
    "version": 3
   },
   "file_extension": ".py",
   "mimetype": "text/x-python",
   "name": "python",
   "nbconvert_exporter": "python",
   "pygments_lexer": "ipython3",
   "version": "3.6.3"
  }
 },
 "nbformat": 4,
 "nbformat_minor": 2
}
