{
 "cells": [
  {
   "cell_type": "markdown",
   "metadata": {},
   "source": [
    "# Pokemon"
   ]
  },
  {
   "cell_type": "markdown",
   "metadata": {},
   "source": [
    "In this dataset you will explore data related to [Pokemon](https://en.wikipedia.org/wiki/Pok%C3%A9mon). This dataset is from Kaggle:\n",
    "\n",
    "https://www.kaggle.com/abcsds/pokemon\n",
    "\n",
    "Before getting started, it is recommended that you read a bit about Pokemon and the variables in this dataset in the links above."
   ]
  },
  {
   "cell_type": "markdown",
   "metadata": {},
   "source": [
    "## Imports"
   ]
  },
  {
   "cell_type": "code",
   "execution_count": 1,
   "metadata": {
    "deletable": false,
    "editable": false,
    "nbgrader": {
     "checksum": "cc64219d87deae588b5aabc7cf5f1141",
     "grade": false,
     "grade_id": "pokemon-a",
     "locked": true,
     "schema_version": 1,
     "solution": false
    }
   },
   "outputs": [],
   "source": [
    "import numpy as np\n",
    "import pandas as pd\n",
    "import altair as alt\n",
    "from io import StringIO\n",
    "alt.enable_mime_rendering()"
   ]
  },
  {
   "cell_type": "markdown",
   "metadata": {},
   "source": [
    "## Data"
   ]
  },
  {
   "cell_type": "markdown",
   "metadata": {},
   "source": [
    "Let's import that dataset as a `DataFrame`:"
   ]
  },
  {
   "cell_type": "code",
   "execution_count": null,
   "metadata": {
    "deletable": false,
    "editable": false,
    "nbgrader": {
     "checksum": "8e60ebf3d151b534c1159365d5270d37",
     "grade": false,
     "grade_id": "pokemon-b",
     "locked": true,
     "schema_version": 1,
     "solution": false
    }
   },
   "outputs": [],
   "source": [
    "data = pd.read_csv('/data/pokemon/Pokemon.csv')\n",
    "data=data[data['#']<151]"
   ]
  },
  {
   "cell_type": "code",
   "execution_count": null,
   "metadata": {
    "deletable": false,
    "editable": false,
    "nbgrader": {
     "checksum": "b96de5b55b0adeb269dc7c22224f297d",
     "grade": false,
     "grade_id": "pokemon-c",
     "locked": true,
     "schema_version": 1,
     "solution": false
    }
   },
   "outputs": [],
   "source": [
    "data.head()"
   ]
  },
  {
   "cell_type": "markdown",
   "metadata": {},
   "source": [
    "Rename columns to get rid of spaces in the names:"
   ]
  },
  {
   "cell_type": "code",
   "execution_count": null,
   "metadata": {},
   "outputs": [],
   "source": [
    "name_map = {'Type 1': 'Type1', 'Type 2': 'Type2', 'Sp. Atk': 'SpAtk', 'Sp. Def': 'SpDef'}\n",
    "data.rename(columns=name_map, inplace=True)"
   ]
  },
  {
   "cell_type": "code",
   "execution_count": null,
   "metadata": {},
   "outputs": [],
   "source": [
    "data.head()\n",
    "data.columns"
   ]
  },
  {
   "cell_type": "markdown",
   "metadata": {},
   "source": [
    "## Exploratory data analysis"
   ]
  },
  {
   "cell_type": "markdown",
   "metadata": {},
   "source": [
    "Your task is to explore this dataset using the tools we have learning in the class. The format is centered around questions. For each of the two sections, you should have the following:\n",
    "\n",
    "1. Start with a question. It is likely that your question will evolve as you explore the dataset. You should put your question in its own markdown cell at the beginning of the section.\n",
    "2. Perform transformations and visualizations to explore the question. You can create as many code cell as you need to explore the dataset. **For each question, create at least 2 visualizations.**\n",
    "3. Answer the question based on your explorations. This should be done in a Markdown cell after the code.\n",
    "\n",
    "Your work will be graded using the following criteria:\n",
    "\n",
    "* The complexity and significance of your question.\n",
    "* How effectively your code explores and answers the question.\n",
    "* The complexity of the transformations/visualizations performed to answer the question. It should be complex enough to be interesting and answer a significant question, but not overly complex.\n",
    "* The effectiveness of visualizations you perform, including using appropriate visual encodings.\n",
    "* How well you answer the question after exploring the data with code."
   ]
  },
  {
   "cell_type": "markdown",
   "metadata": {},
   "source": [
    "## Question 1"
   ]
  },
  {
   "cell_type": "markdown",
   "metadata": {
    "deletable": false,
    "editable": false,
    "nbgrader": {
     "checksum": "d0ded0cee7c2968c39fcb165ae26259a",
     "grade": false,
     "grade_id": "pokemon-d",
     "locked": true,
     "schema_version": 1,
     "solution": false
    }
   },
   "source": [
    "Create as many cells as you need below this one to explore propose, explore and answer your first question."
   ]
  },
  {
   "cell_type": "markdown",
   "metadata": {},
   "source": [
    "Which type of Pokemon would win the most battles based on type and attack strength?\n",
    "\n",
    "Modelling a Pokemon battle:\n",
    "\n",
    "Obtain the names the Pokemon battles(only one on one supported at this time).\n",
    "\n",
    "Multiply 'Total' attack power by the type modifier: 1.5 for super effective, and 0.5 for not very effective.\n",
    "\n",
    "Compare the adjusted attacks. Theoretically, the one with the greater adjusted attack should win. \n",
    "\n",
    "Sum the number of wins for each Pokemon to calculate the most successful Pokemon."
   ]
  },
  {
   "cell_type": "code",
   "execution_count": null,
   "metadata": {
    "deletable": false,
    "editable": false,
    "nbgrader": {
     "checksum": "39286fc490b323c55d90342de1ef7cf6",
     "grade": true,
     "grade_id": "pokemon-e",
     "locked": true,
     "points": 5,
     "schema_version": 1,
     "solution": false
    }
   },
   "outputs": [],
   "source": [
    "types = pd.read_csv(StringIO(\"\"\"Attacking,Normal,Fire,Water,Electric,Grass,Ice,Fighting,Poison,Ground,Flying,Psychic,Bug,Rock,Ghost,Dragon,Dark,Steel,Fairy\n",
    "Normal,1,1,1,1,1,1,1,1,1,1,1,1,0.5,0,1,1,0.5,1\n",
    "Fire,1,0.5,0.5,1,2,2,1,1,1,1,1,2,0.5,1,0.5,1,2,1\n",
    "Water,1,2,0.5,1,0.5,1,1,1,2,1,1,1,2,1,0.5,1,1,1\n",
    "Electric,1,1,2,0.5,0.5,1,1,1,0,2,1,1,1,1,0.5,1,1,1\n",
    "Grass,1,0.5,2,1,0.5,1,1,0.5,2,0.5,1,0.5,2,1,0.5,1,0.5,1\n",
    "Ice,1,0.5,0.5,1,2,0.5,1,1,2,2,1,1,1,1,2,1,0.5,1\n",
    "Fighting,2,1,1,1,1,2,1,0.5,1,0.5,0.5,0.5,2,0,1,2,2,0.5\n",
    "Poison,1,1,1,1,2,1,1,0.5,0.5,1,1,1,0.5,0.5,1,1,0,2\n",
    "Ground,1,2,1,2,0.5,1,1,2,1,0,1,0.5,2,1,1,1,2,1\n",
    "Flying,1,1,1,0.5,2,1,2,1,1,1,1,2,0.5,1,1,1,0.5,1\n",
    "Psychic,1,1,1,1,1,1,2,2,1,1,0.5,1,1,1,1,0,0.5,1\n",
    "Bug,1,0.5,1,1,2,1,0.5,0.5,1,0.5,2,1,1,0.5,1,2,0.5,0.5\n",
    "Rock,1,2,1,1,1,2,0.5,1,0.5,2,1,2,1,1,1,1,0.5,1\n",
    "Ghost,0,1,1,1,1,1,1,1,1,1,2,1,1,2,1,0.5,1,1\n",
    "Dragon,1,1,1,1,1,1,1,1,1,1,1,1,1,1,2,1,0.5,0\n",
    "Dark,1,1,1,1,1,1,0.5,1,1,1,2,1,1,2,1,0.5,1,0.5\n",
    "Steel,1,0.5,0.5,0.5,1,2,1,1,1,1,1,1,2,1,1,1,0.5,2\n",
    "Fairy,1,0.5,1,1,1,1,2,0.5,1,1,1,1,1,1,2,2,0.5,1\"\"\"))"
   ]
  },
  {
   "cell_type": "code",
   "execution_count": null,
   "metadata": {},
   "outputs": [],
   "source": [
    "pokemon_attack = data.merge(types, left_on='Type1', right_on='Attacking')\n",
    "def adjusted_attack(attacker,defender):\n",
    "    attacker_type=pokemon_attack[pokemon_attack['Name']==attacker]['Type1'].iloc[0]\n",
    "    defender_adjusted_attack=(pokemon_attack[pokemon_attack['Name']==defender]['Total']*pokemon_attack[attacker_type].iloc[0]).values[0]\n",
    "    defender_type=pokemon_attack[pokemon_attack['Name']==defender]['Type1'].iloc[0]\n",
    "    attacker_adjusted_attack=(pokemon_attack[pokemon_attack['Name']==attacker]['Total']*pokemon_attack[defender_type].iloc[0]).values[0]\n",
    "    return attacker_adjusted_attack,defender_adjusted_attack"
   ]
  },
  {
   "cell_type": "code",
   "execution_count": null,
   "metadata": {},
   "outputs": [],
   "source": [
    "win_list=[]\n",
    "for attacker in pokemon_attack['Name']:\n",
    "    wincount=0\n",
    "    for defender in pokemon_attack['Name']:\n",
    "        attacker_adjusted, defender_adjusted =adjusted_attack(attacker,defender)\n",
    "        if(defender_adjusted>attacker_adjusted):\n",
    "            wincount=wincount+1\n",
    "    win_list.append(wincount)\n",
    "win_list=np.array(win_list)\n",
    "print(win_list)\n",
    "pokemon_attack['wins']=win_list"
   ]
  },
  {
   "cell_type": "code",
   "execution_count": null,
   "metadata": {},
   "outputs": [],
   "source": [
    "pokemon_attack.head()\n",
    "alt.Chart(pokemon_attack).mark_bar().encode(\n",
    "    x='Type1',\n",
    "    y=alt.Y('wins',title='Number of Wins'),\n",
    "    color=alt.Color('Type1:N',\n",
    "        scale=alt.Scale(\n",
    "            range=['#A8B820', '#7038F8', '#F8D030', '#EE99AC', '#C03028',\n",
    "                   '#F08030', '#705898', '#78C850', '#E0C068', '#98D8D8',\n",
    "                   '#A8A878', '#A040A0', '#F85888', '#B8A038', '#6890F0',\n",
    "                   '#B6A136', '#B7B7CE', '#6390F0'],\n",
    "        ),\n",
    "    ),\n",
    ")"
   ]
  },
  {
   "cell_type": "markdown",
   "metadata": {},
   "source": [
    "Therefore, in a world with only Gen1 Pokemon, and where Pokemon battles are truly randomly distributed, the best party would contain Pokemon from the Ground, Rock, and Water types. "
   ]
  },
  {
   "cell_type": "markdown",
   "metadata": {},
   "source": [
    "## Question 2"
   ]
  },
  {
   "cell_type": "markdown",
   "metadata": {
    "deletable": false,
    "editable": false,
    "nbgrader": {
     "checksum": "4ebc12e828514d715c334fabca942e2c",
     "grade": false,
     "grade_id": "pokemon-f",
     "locked": true,
     "schema_version": 1,
     "solution": false
    }
   },
   "source": [
    "Create as many cells as you need below this one to explore propose, explore and answer your first question."
   ]
  },
  {
   "cell_type": "markdown",
   "metadata": {},
   "source": [
    "In the original TV Show Pokemon, Ash Ketchum defeats the gym leader of Pewter City Gym by hitting a water sprinkler, causing water to rain down on the gym leader's rock type Pokemon, hurting them. This outraged many a fans, as they thought that Ash cheated, relying on luck, instead of diversifying his Pokemon party in order to gain a type advantage or training/ fostering his Pokemon to grow stronger.   \n",
    "\n",
    "I'm going to analyse, on the basis of Ash's party at Pewter gym, if he would have been able to beat Brock without \"cheating\".  \n",
    "\n",
    "Assumptions: \n",
    "\n",
    "same levels, same HP\n",
    "\n",
    "if a pokemon survives a round, it's health is replenished, and it can fight another round. The first person to deplete their pokemon loses\n",
    "\n",
    "Ash: Caterpie, Pikachu\n",
    "\n",
    "Brock: Geodude, Onix"
   ]
  },
  {
   "cell_type": "code",
   "execution_count": null,
   "metadata": {},
   "outputs": [],
   "source": [
    "data = pd.read_csv('/data/pokemon/Pokemon.csv')\n",
    "pokemon_pewter = data[data['#'] <= 95]\n",
    "ash_party=[pokemon_pewter.iloc[30],pokemon_pewter.iloc[13]]\n",
    "brock_party=[pokemon_pewter.iloc[80],pokemon_pewter.iloc[103]]\n",
    "while(len(ash_party)!=0 and len(brock_party)!=0):\n",
    "    print(ash_party[0]['Name'], 'vs ', brock_party[0]['Name'])\n",
    "    ash_attack,brock_attack=adjusted_attack(ash_party[0]['Name'],brock_party[0]['Name'])\n",
    "    if(ash_attack>brock_attack):\n",
    "        brock_party.pop(0)\n",
    "    elif(ash_attack<brock_attack):\n",
    "        ash_party.pop(0)\n",
    "    else:\n",
    "        ash_party.pop(0)\n",
    "        brock_party.pop(0)\n",
    "if(len(ash_party)>len(brock_party)):\n",
    "    print(\"Ash wins\")\n",
    "elif(len(ash_party)<len(brock_party)):\n",
    "    print(\"brock wins\")\n",
    "else:\n",
    "    print(\"it's a tie\")"
   ]
  },
  {
   "cell_type": "markdown",
   "metadata": {},
   "source": [
    "Therefore, theoretically, Ash could have won even without the water sprinklers."
   ]
  },
  {
   "cell_type": "markdown",
   "metadata": {},
   "source": [
    "Which Generation of Pokemon is the strongest? Do legendaries effect the number a lot?"
   ]
  },
  {
   "cell_type": "code",
   "execution_count": null,
   "metadata": {},
   "outputs": [],
   "source": [
    "data = pd.read_csv('/data/pokemon/Pokemon.csv')\n",
    "alt.Chart(data).mark_point().encode(\n",
    "    x='Generation:N',\n",
    "    y='average(Total):Q',\n",
    "    color=alt.Color('Generation:N'),\n",
    "    size='count(Legendary)'\n",
    ")"
   ]
  },
  {
   "cell_type": "markdown",
   "metadata": {},
   "source": [
    "Answer: The fourth generation of Pokemon is the strongest yet, even though it is first generation that has the greatest number of legendary pokemon."
   ]
  },
  {
   "cell_type": "code",
   "execution_count": null,
   "metadata": {
    "deletable": false,
    "editable": false,
    "nbgrader": {
     "checksum": "84312312837fd01e6f37d2110199dfe7",
     "grade": true,
     "grade_id": "pokemon-g",
     "locked": true,
     "points": 5,
     "schema_version": 1,
     "solution": false
    }
   },
   "outputs": [],
   "source": [
    "assert True # Leave this cell unchanged as the last cell in the section as a placeholder for grading"
   ]
  }
 ],
 "metadata": {
  "kernelspec": {
   "display_name": "Python 3",
   "language": "python",
   "name": "python3"
  },
  "language_info": {
   "codemirror_mode": {
    "name": "ipython",
    "version": 3
   },
   "file_extension": ".py",
   "mimetype": "text/x-python",
   "name": "python",
   "nbconvert_exporter": "python",
   "pygments_lexer": "ipython3",
   "version": "3.6.3"
  }
 },
 "nbformat": 4,
 "nbformat_minor": 2
}
