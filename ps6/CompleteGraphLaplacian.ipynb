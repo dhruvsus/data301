{
 "cells": [
  {
   "cell_type": "markdown",
   "metadata": {},
   "source": [
    "# Complete graph Laplacian"
   ]
  },
  {
   "cell_type": "markdown",
   "metadata": {},
   "source": [
    "## Imports"
   ]
  },
  {
   "cell_type": "code",
   "execution_count": 1,
   "metadata": {},
   "outputs": [],
   "source": [
    "import numpy as np\n",
    "%matplotlib inline\n",
    "import matplotlib.pyplot as plt"
   ]
  },
  {
   "cell_type": "markdown",
   "metadata": {},
   "source": [
    "In discrete mathematics a [Graph](http://en.wikipedia.org/wiki/Graph_%28mathematics%29) is a set of *vertices* or *nodes* that are connected to each other by *edges* or *lines*. If those *edges* don't have directionality, the graph is said to be *undirected*. Graphs are used to model social and communications networks (Twitter, Facebook, Internet) as well as natural systems such as molecules.\n",
    "\n",
    "A [Complete Graph](http://en.wikipedia.org/wiki/Complete_graph), $K_n$ on $n$ nodes has an edge that connects each node to every other node.\n",
    "\n",
    "Here is $K_5$:"
   ]
  },
  {
   "cell_type": "code",
   "execution_count": 2,
   "metadata": {},
   "outputs": [
    {
     "data": {
      "image/png": "[encoded data removed]",
      "text/plain": [
       "<matplotlib.figure.Figure at 0x7f15fbfc2ef0>"
      ]
     },
     "metadata": {},
     "output_type": "display_data"
    }
   ],
   "source": [
    "import networkx as nx\n",
    "K_5=nx.complete_graph(5)\n",
    "nx.draw(K_5)"
   ]
  },
  {
   "cell_type": "markdown",
   "metadata": {},
   "source": [
    "The [Laplacian Matrix](http://en.wikipedia.org/wiki/Laplacian_matrix) is a matrix that is extremely important in graph theory and numerical analysis. It is defined as $L=D-A$. Where $D$ is the [degree matrix](https://en.wikipedia.org/wiki/Degree_matrix) and $A$ is the [adjecency matrix](https://en.wikipedia.org/wiki/Adjacency_matrix). For the purpose of this problem you don't need to understand the details of these matrices, although their definitions are relatively simple (I encourage you to follow the links above and read about them).\n",
    "\n",
    "The degree matrix for $K_n$ is an $n \\times n$ diagonal matrix with the value $n-1$ along the diagonal and zeros everywhere else. Write a function to compute the degree matrix for $K_n$ using NumPy."
   ]
  },
  {
   "cell_type": "code",
   "execution_count": 3,
   "metadata": {
    "deletable": false,
    "nbgrader": {
     "checksum": "251bf113f2e9a7b057fb69931255ec80",
     "grade": false,
     "grade_id": "completegrapha",
     "locked": false,
     "schema_version": 1,
     "solution": true
    }
   },
   "outputs": [],
   "source": [
    "def complete_deg(n):\n",
    "    \"\"\"Return the integer valued degree matrix D for the complete graph K_n.\"\"\"\n",
    "    a=np.array([n-1]*n)\n",
    "    a=np.diagflat(a)\n",
    "    return a"
   ]
  },
  {
   "cell_type": "code",
   "execution_count": 4,
   "metadata": {
    "deletable": false,
    "editable": false,
    "nbgrader": {
     "checksum": "e2225ed17d8b7c0950bbea55d1a169a4",
     "grade": true,
     "grade_id": "completegraphb",
     "locked": false,
     "points": 3,
     "schema_version": 1,
     "solution": false
    }
   },
   "outputs": [],
   "source": [
    "D = complete_deg(5)\n",
    "assert D.shape==(5,5)\n",
    "assert D.dtype==np.dtype(int)\n",
    "assert np.all(D.diagonal()==4*np.ones(5))\n",
    "assert np.all(D-np.diag(D.diagonal())==np.zeros((5,5),dtype=int))"
   ]
  },
  {
   "cell_type": "markdown",
   "metadata": {},
   "source": [
    "The adjacency matrix for $K_n$ is an $n \\times n$ matrix with zeros along the diagonal and ones everywhere else. Write a function to compute the adjacency matrix for $K_n$ using NumPy."
   ]
  },
  {
   "cell_type": "code",
   "execution_count": 5,
   "metadata": {
    "deletable": false,
    "nbgrader": {
     "checksum": "a1e20496042084d727b017d8acc7aac4",
     "grade": false,
     "grade_id": "completegraphc",
     "locked": false,
     "schema_version": 1,
     "solution": true
    }
   },
   "outputs": [],
   "source": [
    "def complete_adj(n):\n",
    "    \"\"\"Return the integer valued adjacency matrix A for the complete graph K_n.\"\"\"\n",
    "    a=np.ones((n,n),dtype=int)\n",
    "    np.fill_diagonal(a,0)\n",
    "    return a"
   ]
  },
  {
   "cell_type": "code",
   "execution_count": 6,
   "metadata": {
    "deletable": false,
    "editable": false,
    "nbgrader": {
     "checksum": "883e25c80532ae29a76c49682292e1c4",
     "grade": true,
     "grade_id": "completegraphd",
     "locked": false,
     "points": 3,
     "schema_version": 1,
     "solution": false
    }
   },
   "outputs": [],
   "source": [
    "A = complete_adj(5)\n",
    "assert A.shape==(5,5)\n",
    "assert A.dtype==np.dtype(int)\n",
    "assert np.all(A+np.eye(5,dtype=int)==np.ones((5,5),dtype=int))"
   ]
  },
  {
   "cell_type": "markdown",
   "metadata": {},
   "source": [
    "Use NumPy to explore the eigenvalues or *spectrum* of the Laplacian *L* of $K_n$. What patterns do you notice as $n$ changes? Create a *conjecture* about the general Laplace *spectrum* of $K_n$."
   ]
  },
  {
   "cell_type": "code",
   "execution_count": 7,
   "metadata": {
    "deletable": false,
    "nbgrader": {
     "checksum": "5ca9adcbecfdbb7e14b0f227f5de7343",
     "grade": true,
     "grade_id": "completegraphe",
     "locked": false,
     "points": 2,
     "schema_version": 1,
     "solution": true
    }
   },
   "outputs": [
    {
     "name": "stdout",
     "output_type": "stream",
     "text": [
      "sum of eigen values:  0.0 n=  0\n",
      "True\n",
      "sum of eigen values:  0.0 n=  1\n",
      "True\n",
      "sum of eigen values:  2.0 n=  2\n",
      "True\n",
      "sum of eigen values:  6.0 n=  3\n",
      "True\n",
      "sum of eigen values:  12.0 n=  4\n",
      "True\n",
      "sum of eigen values:  20.0 n=  5\n",
      "True\n",
      "sum of eigen values:  30.0 n=  6\n",
      "True\n",
      "sum of eigen values:  42.0 n=  7\n",
      "True\n",
      "sum of eigen values:  (56+0j) n=  8\n",
      "True\n",
      "sum of eigen values:  72.0 n=  9\n",
      "True\n",
      "sum of eigen values:  90.0 n=  10\n",
      "True\n",
      "sum of eigen values:  110.0 n=  11\n",
      "True\n",
      "sum of eigen values:  (132+0j) n=  12\n",
      "True\n",
      "sum of eigen values:  (156+0j) n=  13\n",
      "True\n",
      "sum of eigen values:  182.0 n=  14\n",
      "True\n",
      "sum of eigen values:  (210+0j) n=  15\n",
      "True\n",
      "sum of eigen values:  240.0 n=  16\n",
      "True\n",
      "sum of eigen values:  272.0 n=  17\n",
      "True\n",
      "sum of eigen values:  306.0 n=  18\n",
      "True\n",
      "sum of eigen values:  (342+0j) n=  19\n",
      "True\n",
      "sum of eigen values:  380.0 n=  20\n",
      "True\n",
      "sum of eigen values:  420.0 n=  21\n",
      "True\n",
      "sum of eigen values:  462.0 n=  22\n",
      "True\n",
      "sum of eigen values:  506.0 n=  23\n",
      "True\n",
      "sum of eigen values:  552.0 n=  24\n",
      "True\n",
      "sum of eigen values:  600.0 n=  25\n",
      "True\n",
      "sum of eigen values:  650.0 n=  26\n",
      "True\n",
      "sum of eigen values:  702.0 n=  27\n",
      "True\n",
      "sum of eigen values:  756.0 n=  28\n",
      "True\n",
      "sum of eigen values:  (812+0j) n=  29\n",
      "True\n",
      "sum of eigen values:  (870+0j) n=  30\n",
      "True\n",
      "sum of eigen values:  930.0 n=  31\n",
      "True\n",
      "sum of eigen values:  992.0 n=  32\n",
      "True\n",
      "sum of eigen values:  (1056+0j) n=  33\n",
      "True\n",
      "sum of eigen values:  1122.0 n=  34\n",
      "True\n",
      "sum of eigen values:  1190.0 n=  35\n",
      "True\n",
      "sum of eigen values:  1260.0 n=  36\n",
      "True\n",
      "sum of eigen values:  1332.0 n=  37\n",
      "True\n",
      "sum of eigen values:  (1406+0j) n=  38\n",
      "True\n",
      "sum of eigen values:  1482.0 n=  39\n",
      "True\n",
      "sum of eigen values:  (1560+0j) n=  40\n",
      "True\n",
      "sum of eigen values:  (1640+0j) n=  41\n",
      "True\n",
      "sum of eigen values:  (1722+0j) n=  42\n",
      "True\n",
      "sum of eigen values:  1806.0 n=  43\n",
      "True\n",
      "sum of eigen values:  (1892+0j) n=  44\n",
      "True\n",
      "sum of eigen values:  1980.0 n=  45\n",
      "True\n",
      "sum of eigen values:  2070.0 n=  46\n",
      "True\n",
      "sum of eigen values:  (2162+0j) n=  47\n",
      "True\n",
      "sum of eigen values:  2256.0 n=  48\n",
      "True\n",
      "sum of eigen values:  (2352+0j) n=  49\n",
      "True\n"
     ]
    }
   ],
   "source": [
    "\"\"\"a=np.arange(0,50)\n",
    "plt.plot(data=(a,int(np.sum(np.linalg.eigvals(complete_deg(a)-complete_adj(a))))))\"\"\"\n",
    "for i in range(50):\n",
    "    L=complete_deg(i)-complete_adj(i)\n",
    "    L_eig=np.linalg.eigvals(L)\n",
    "    print('sum of eigen values: ',np.sum(L_eig),'n= ', i)\n",
    "    print(np.sum(L_eig)<=i**2)"
   ]
  },
  {
   "cell_type": "markdown",
   "metadata": {},
   "source": [
    "In a few sentences, propose a *conjecture* about the general Laplace *spectrum* of $K_n$ as $n$ varies."
   ]
  },
  {
   "cell_type": "markdown",
   "metadata": {
    "deletable": false,
    "nbgrader": {
     "checksum": "2e4d948885370eb420b28323df184497",
     "grade": true,
     "grade_id": "completegraphf",
     "locked": false,
     "points": 2,
     "schema_version": 1,
     "solution": true
    }
   },
   "source": [
    "The sum Laplace spectrum of Kn<= n^2 as n varies."
   ]
  },
  {
   "cell_type": "code",
   "execution_count": null,
   "metadata": {},
   "outputs": [],
   "source": []
  }
 ],
 "metadata": {
  "kernelspec": {
   "display_name": "Python 3",
   "language": "python",
   "name": "python3"
  },
  "language_info": {
   "codemirror_mode": {
    "name": "ipython",
    "version": 3
   },
   "file_extension": ".py",
   "mimetype": "text/x-python",
   "name": "python",
   "nbconvert_exporter": "python",
   "pygments_lexer": "ipython3",
   "version": "3.6.3"
  }
 },
 "nbformat": 4,
 "nbformat_minor": 2
}
