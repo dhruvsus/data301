{
 "cells": [
  {
   "cell_type": "markdown",
   "metadata": {},
   "source": [
    "# Day 2\n",
    "\n",
    "* Introduction to Data Science (Data 301)\n",
    "* Cal Poly, Winter 2018\n",
    "* Brian E. Granger"
   ]
  },
  {
   "cell_type": "markdown",
   "metadata": {},
   "source": [
    "## Announcements"
   ]
  },
  {
   "cell_type": "markdown",
   "metadata": {},
   "source": [
    "None"
   ]
  },
  {
   "cell_type": "markdown",
   "metadata": {},
   "source": [
    "## Configuring nbgrader\n",
    "\n",
    "If you want to create a config file for nbgrader, that will make it so you don't have to add `--course data301` to every nbgrader command:\n",
    "\n",
    "```\n",
    "cd\n",
    "touch nbgrader_config.py\n",
    "```\n",
    "\n",
    "Now edit the `nbgrader_config.py` file with the content:\n",
    "\n",
    "```\n",
    "c = get_config()\n",
    "c.Exchange.course_id = \"data301\"\n",
    "```\n",
    "\n",
    "Now install it in the right directory:\n",
    "\n",
    "```\n",
    "cd\n",
    "mkdir -p ~/.jupyter   # the -p is important\n",
    "mv nbgrader_config.py ~/.jupyter\n",
    "```"
   ]
  },
  {
   "cell_type": "markdown",
   "metadata": {},
   "source": [
    "## In class\n",
    "\n",
    "* Grab materials for the day:\n",
    "  - `cd` - go back to your home directory\n",
    "  - `nbgrader list --course data301`\n",
    "  - `nbgrader fetch --course data301 day02`\n",
    "  - `nbgrader fetch --course data301 ps1`\n",
    "* To reset/update course materials:\n",
    "  - `cd`\n",
    "  - `cd data301`\n",
    "  - `make update`\n",
    "* Today's material\n",
    "  - From *Whirlwind Tour of Python*\n",
    "  - How to Run Python Code\n",
    "  - Basic Python Syntax\n",
    "  - Semantics: Variables\n",
    "  - Semantics: Operators\n",
    "  - Built in Scalar Types\n",
    "  - Built in Data Structures\n",
    "  - Control Flow Statements\n",
    "  - Defining Functions"
   ]
  },
  {
   "cell_type": "markdown",
   "metadata": {},
   "source": [
    "## Out of class\n",
    "\n",
    "* Make sure your 1st DataCamp assignment is turned in by 3pm today (day 02).\n",
    "* Your 2nd DataCamp assignment is due at 3pm, Tuesday, day 03 of class.\n",
    "* Complete the nbgrader assignment `ps1` by the beginning of class, Tuesday, day 03."
   ]
  }
 ],
 "metadata": {
  "kernelspec": {
   "display_name": "Python 3",
   "language": "python",
   "name": "python3"
  },
  "language_info": {
   "codemirror_mode": {
    "name": "ipython",
    "version": 3
   },
   "file_extension": ".py",
   "mimetype": "text/x-python",
   "name": "python",
   "nbconvert_exporter": "python",
   "pygments_lexer": "ipython3",
   "version": "3.6.3"
  }
 },
 "nbformat": 4,
 "nbformat_minor": 2
}
