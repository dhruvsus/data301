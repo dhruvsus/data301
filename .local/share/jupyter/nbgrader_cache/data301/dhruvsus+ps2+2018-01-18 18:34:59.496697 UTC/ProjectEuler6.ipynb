{
 "cells": [
  {
   "cell_type": "markdown",
   "metadata": {},
   "source": [
    "# Project Euler: Problem 6"
   ]
  },
  {
   "cell_type": "markdown",
   "metadata": {},
   "source": [
    "https://projecteuler.net/problem=6\n",
    "\n",
    "The sum of the squares of the first ten natural numbers is,\n",
    "\n",
    "$$1^2 + 2^2 + ... + 10^2 = 385$$\n",
    "\n",
    "The square of the sum of the first ten natural numbers is,\n",
    "\n",
    "$$(1 + 2 + ... + 10)^2 = 55^2 = 3025$$\n",
    "\n",
    "Hence the difference between the sum of the squares of the first ten natural numbers and the square of the sum is $3025 − 385 = 2640$.\n",
    "\n",
    "Find the difference between the sum of the squares of the first one hundred natural numbers and the square of the sum. "
   ]
  },
  {
   "cell_type": "code",
   "execution_count": 1,
   "metadata": {
    "deletable": false,
    "nbgrader": {
     "checksum": "d2bd74a92ab9ca9975b3f5a572c727c9",
     "grade": true,
     "grade_id": "projecteuler6",
     "locked": false,
     "points": 10,
     "schema_version": 1,
     "solution": true
    }
   },
   "outputs": [
    {
     "name": "stdout",
     "output_type": "stream",
     "text": [
      "25164150\n"
     ]
    }
   ],
   "source": [
    "def difference_between_squares(max_natural):\n",
    "    sum_of_square=0\n",
    "    square_of_sum=0\n",
    "    for i in range(1,101,1):\n",
    "        square_of_sum+=i\n",
    "        sum_of_square+=i**2\n",
    "    square_of_sum=square_of_sum**2\n",
    "    return abs(sum_of_square-square_of_sum)\n",
    "if __name__ == \"__main__\":\n",
    "    print(difference_between_squares(100))"
   ]
  },
  {
   "cell_type": "code",
   "execution_count": null,
   "metadata": {},
   "outputs": [],
   "source": []
  }
 ],
 "metadata": {
  "kernelspec": {
   "display_name": "Python 3",
   "language": "python",
   "name": "python3"
  },
  "language_info": {
   "codemirror_mode": {
    "name": "ipython",
    "version": 3
   },
   "file_extension": ".py",
   "mimetype": "text/x-python",
   "name": "python",
   "nbconvert_exporter": "python",
   "pygments_lexer": "ipython3",
   "version": "3.6.3"
  }
 },
 "nbformat": 4,
 "nbformat_minor": 2
}
