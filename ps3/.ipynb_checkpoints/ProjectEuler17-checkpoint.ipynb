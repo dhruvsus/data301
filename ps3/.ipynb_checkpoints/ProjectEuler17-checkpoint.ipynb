{
 "cells": [
  {
   "cell_type": "markdown",
   "metadata": {},
   "source": [
    "# Project Euler: Problem 17"
   ]
  },
  {
   "cell_type": "markdown",
   "metadata": {},
   "source": [
    "https://projecteuler.net/problem=17\n",
    "\n",
    "If the numbers 1 to 5 are written out in words: one, two, three, four, five, then there are 3 + 3 + 5 + 4 + 4 = 19 letters used in total.\n",
    "\n",
    "If all the numbers from 1 to 1000 (one thousand) inclusive were written out in words, how many letters would be used?\n",
    "\n",
    "\n",
    "NOTE: Do not count spaces or hyphens. For example, 342 (three hundred and forty-two) contains 23 letters and 115 (one hundred and fifteen) contains 20 letters. The use of \"and\" when writing out numbers is in compliance with British usage."
   ]
  },
  {
   "cell_type": "markdown",
   "metadata": {},
   "source": [
    "First write a `number_to_words(n)` function that takes an integer `n` between 1 and 1000 inclusive and returns a string of words for the number as described above"
   ]
  },
  {
   "cell_type": "code",
   "execution_count": 1,
   "metadata": {
    "deletable": false,
    "nbgrader": {
     "checksum": "a1ba444d361e2d62543d7db0d563fdd7",
     "grade": true,
     "grade_id": "projecteuler17a",
     "locked": false,
     "points": 2,
     "schema_version": 1,
     "solution": true
    }
   },
   "outputs": [],
   "source": [
    "def number_to_words(n):\n",
    "    \"\"\"Given a number n between 1-1000 inclusive return a list of words for the number.\"\"\"\n",
    "    if n==0:\n",
    "        return 'Zero'\n",
    "    num2words={0: \"Zero\", 1:\"One\", 2: \"Two\", 3: \"Three\", 4: \"Four\", \\\n",
    "                  5: \"Five\", 6: \"Six\", 7: \"Seven\", 8: \"Eight\", 9: \"Nine\", \\\n",
    "                  10: \"Ten\", 11: \"Eleven\", 12: \"Twelve\", 13: \"Thirteen\", 14: \"Fourteen\", \\\n",
    "                  15: \"Fifteen\", 16: \"Sixteen\", 17: \"Seventeen\", 18: \"Eighteen\", 19: \"Nineteen\", \\\n",
    "                  20: \"Twenty\", 30: \"Thirty\", 40: \"Forty\", 50: \"Fifty\", 60: \"Sixty\", \\\n",
    "                  70: \"Seventy\", 80: \"Eighty\", 90: \"Ninety\"}\n",
    "    return num2words[n//1000]*(n//1000) + (n//1000!=0)*'thousand'+ num2words[(n//100)]*((n//100)%10!=0) \\\n",
    "        +((n//100)%10!=0)*'hundred' + 'and'*(n//100!=0 and n%100!=0) \\\n",
    "        + (num2words[n%100]*((n%100)!=0) if (n%100<20) else num2words[((n%100)//10)*10] + num2words[n%10]*(n%10!=0))"
   ]
  },
  {
   "cell_type": "markdown",
   "metadata": {},
   "source": [
    "Now write a set of `assert` tests for your `number_to_words` function that verifies that it is working as expected."
   ]
  },
  {
   "cell_type": "code",
   "execution_count": 2,
   "metadata": {
    "deletable": false,
    "nbgrader": {
     "checksum": "ac363c7c875b7eb8b56cbc461725a1cc",
     "grade": true,
     "grade_id": "projecteuler17b",
     "locked": false,
     "points": 2,
     "schema_version": 1,
     "solution": true
    }
   },
   "outputs": [],
   "source": [
    "assert number_to_words(5)=='Five'\n",
    "assert number_to_words(1000)=='Onethousand'\n",
    "assert number_to_words(819)=='EighthundredandNineteen'"
   ]
  },
  {
   "cell_type": "markdown",
   "metadata": {},
   "source": [
    "Now define a `count_letters(n)` that returns the number of letters used to write out the words for all of the the numbers `1` to `n` inclusive."
   ]
  },
  {
   "cell_type": "code",
   "execution_count": 3,
   "metadata": {
    "deletable": false,
    "nbgrader": {
     "checksum": "ec3d522ef66d2068950832459e7142f2",
     "grade": true,
     "grade_id": "projecteuler17c",
     "locked": false,
     "points": 2,
     "schema_version": 1,
     "solution": true
    }
   },
   "outputs": [],
   "source": [
    "def count_letters(n):\n",
    "    \"\"\"Count the number of letters used to write out the words for 1-n inclusive.\"\"\"\n",
    "    num_letters=0\n",
    "    for i in range(1,n+1):\n",
    "        num_letters+=len(number_to_words(i))  \n",
    "    return num_letters"
   ]
  },
  {
   "cell_type": "markdown",
   "metadata": {},
   "source": [
    "Now write a set of `assert` tests for your `count_letters` function that verifies that it is working as expected."
   ]
  },
  {
   "cell_type": "code",
   "execution_count": 4,
   "metadata": {
    "deletable": false,
    "nbgrader": {
     "checksum": "324d66978b5498d3b7df36e3793bc0c7",
     "grade": true,
     "grade_id": "projecteuler17d",
     "locked": false,
     "points": 2,
     "schema_version": 1,
     "solution": true
    }
   },
   "outputs": [],
   "source": [
    "# YOUR CODE HERE\n",
    "assert count_letters(5)==19\n",
    "assert count_letters(9)==36"
   ]
  },
  {
   "cell_type": "markdown",
   "metadata": {},
   "source": [
    "Finally used your `count_letters` function to solve the original question."
   ]
  },
  {
   "cell_type": "raw",
   "metadata": {
    "deletable": false,
    "nbgrader": {
     "checksum": "c08acf66ff8af00cea13563b28a893e9",
     "grade": true,
     "grade_id": "projecteuler17e",
     "locked": false,
     "points": 2,
     "schema_version": 1,
     "solution": true
    }
   },
   "source": [
    "# YOUR CODE HERE\n",
    "print(count_letters(1000))"
   ]
  }
 ],
 "metadata": {
  "kernelspec": {
   "display_name": "Python 3",
   "language": "python",
   "name": "python3"
  },
  "language_info": {
   "codemirror_mode": {
    "name": "ipython",
    "version": 3
   },
   "file_extension": ".py",
   "mimetype": "text/x-python",
   "name": "python",
   "nbconvert_exporter": "python",
   "pygments_lexer": "ipython3",
   "version": "3.6.3"
  }
 },
 "nbformat": 4,
 "nbformat_minor": 2
}
