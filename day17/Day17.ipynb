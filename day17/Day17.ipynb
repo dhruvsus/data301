{
 "cells": [
  {
   "cell_type": "markdown",
   "metadata": {},
   "source": [
    "# Day 17\n",
    "\n",
    "* Introduction to Data Science (Data 301)\n",
    "* Cal Poly, Winter 2018\n",
    "* Brian E. Granger"
   ]
  },
  {
   "cell_type": "markdown",
   "metadata": {},
   "source": [
    "## In class\n",
    "\n",
    "* Grab materials for the day\n",
    "  - `cd` - go back to your home directory\n",
    "  - `nbgrader list --course data301`\n",
    "  - `nbgrader fetch --course data301 day17`\n",
    "* Turn in `ps13`:\n",
    "  * `cd ps13`\n",
    "  * `nbgrader validate *.ipynb`\n",
    "  * `nbgrader submit --course data301 .`\n",
    "* To reset/update course materials:\n",
    "  - `cd`\n",
    "  - `cd data301`\n",
    "  - `make update`\n",
    "* Material\n",
    "  - Python Data Science Handbook (Chapter 5)\n",
    "    - 01 What is Machine Learning\n",
    "    - 02 Introducing Scikit Learn\n",
    "    - 03 Hyperparameters and Model Validation\n",
    "    - 04 Feature Engineering\n",
    "    - 06 Linear Regression\n",
    "    - 08 Random Forests\n",
    "  - Import\n",
    "    - 03 CSV\n",
    "    - 04 JSON\n",
    "  - Transform\n",
    "    - 05 Relational Data\n",
    "* How to upload data to `/data`"
   ]
  },
  {
   "cell_type": "markdown",
   "metadata": {},
   "source": [
    "## Out of class\n",
    "\n",
    "* Complete 1 DataCamp Chapter on sklearn by 3pm, Thursday, day 18.\n",
    "* Project, by Thursday, day 18:\n",
    "  - Pick dataset\n",
    "  - Upload/download/install in `/data`\n",
    "  - Import into a notebook as a DataFrame\n",
    "  - Begin to Tidy and write tests"
   ]
  }
 ],
 "metadata": {
  "kernelspec": {
   "display_name": "Python 3",
   "language": "python",
   "name": "python3"
  },
  "language_info": {
   "codemirror_mode": {
    "name": "ipython",
    "version": 3
   },
   "file_extension": ".py",
   "mimetype": "text/x-python",
   "name": "python",
   "nbconvert_exporter": "python",
   "pygments_lexer": "ipython3",
   "version": "3.6.3"
  }
 },
 "nbformat": 4,
 "nbformat_minor": 2
}
