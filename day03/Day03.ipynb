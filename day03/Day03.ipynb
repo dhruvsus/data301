{
 "cells": [
  {
   "cell_type": "markdown",
   "metadata": {},
   "source": [
    "# Day 3\n",
    "\n",
    "* Introduction to Data Science (Data 301)\n",
    "* Cal Poly, Winter 2018\n",
    "* Brian E. Granger"
   ]
  },
  {
   "cell_type": "markdown",
   "metadata": {},
   "source": [
    "## Announcements"
   ]
  },
  {
   "cell_type": "markdown",
   "metadata": {},
   "source": [
    "Great Data Science internship at West Health:\n",
    "\n",
    "http://www.westhealth.org/careers/?p=job%2Fo2Hq6fwZ"
   ]
  },
  {
   "cell_type": "markdown",
   "metadata": {},
   "source": [
    "## In class\n",
    "\n",
    "* Grab materials for the day\n",
    "  - `cd` - go back to your home directory\n",
    "  - `nbgrader list --course data301`\n",
    "  - `nbgrader fetch --course data301 day03`\n",
    "  - `nbgrader fetch --course data301 ps2`\n",
    "* Turn in `ps1`:\n",
    "  * Restart the kernel and run all notebooks to make sure your code works!\n",
    "  * `nbgrader submit --course data301 ps1`\n",
    "* Finish your second DataCamp course by today (day 3) @ 3pm.\n",
    "* To reset/update course materials:\n",
    "  - `cd`\n",
    "  - `cd data301`\n",
    "  - `make update`\n",
    "* Today's material\n",
    "  - Whirlwind Tour of Python\n",
    "    - Built in Data Structures\n",
    "    - Control Flow Statements\n",
    "    - Defining Functions\n",
    "    - Errors and Exceptions\n",
    "    - Iterators\n",
    "    - List Comprehensions\n",
    "    - Generators\n",
    "    - Strings (w/o regular expressions)"
   ]
  },
  {
   "cell_type": "markdown",
   "metadata": {},
   "source": [
    "## Out of class\n",
    "\n",
    "* Complete `ps2` by the beginning of class, Thursday, day 4."
   ]
  }
 ],
 "metadata": {
  "kernelspec": {
   "display_name": "Python 3",
   "language": "python",
   "name": "python3"
  },
  "language_info": {
   "codemirror_mode": {
    "name": "ipython",
    "version": 3
   },
   "file_extension": ".py",
   "mimetype": "text/x-python",
   "name": "python",
   "nbconvert_exporter": "python",
   "pygments_lexer": "ipython3",
   "version": "3.6.3"
  }
 },
 "nbformat": 4,
 "nbformat_minor": 2
}
