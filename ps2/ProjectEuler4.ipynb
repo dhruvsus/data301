{
 "cells": [
  {
   "cell_type": "markdown",
   "metadata": {},
   "source": [
    "# Project Euler: Problem 4"
   ]
  },
  {
   "cell_type": "markdown",
   "metadata": {},
   "source": [
    "https://projecteuler.net/problem=4\n",
    "\n",
    "A palindromic number reads the same both ways. The largest palindrome made from the product of two 2-digit numbers is 9009 = 91 × 99.\n",
    "\n",
    "Find the largest palindrome made from the product of two 3-digit numbers."
   ]
  },
  {
   "cell_type": "code",
   "execution_count": 6,
   "metadata": {
    "deletable": false,
    "nbgrader": {
     "checksum": "a5ba17ba2d63cc55e19ba1f4f9b03664",
     "grade": true,
     "grade_id": "projecteuler4",
     "locked": false,
     "points": 10,
     "schema_version": 1,
     "solution": true
    }
   },
   "outputs": [
    {
     "name": "stdout",
     "output_type": "stream",
     "text": [
      "906609\n"
     ]
    }
   ],
   "source": [
    "def check_palindrome(number):\n",
    "    if(str(number)[::-1]==str(number)):\n",
    "        return True\n",
    "    else:\n",
    "        return False\n",
    "def check_all_products_for_palindrome_up_to(max_number):\n",
    "    n=0\n",
    "    for i in range(999,100,-1):\n",
    "        for j in range(999,100,-1):\n",
    "            product=i*j\n",
    "            if(product>n and check_palindrome(product)):\n",
    "                n=product\n",
    "    return n\n",
    "if __name__ == \"__main__\":\n",
    "    print(check_all_products_for_palindrome_up_to(999))"
   ]
  },
  {
   "cell_type": "code",
   "execution_count": null,
   "metadata": {},
   "outputs": [],
   "source": []
  }
 ],
 "metadata": {
  "kernelspec": {
   "display_name": "Python 3",
   "language": "python",
   "name": "python3"
  },
  "language_info": {
   "codemirror_mode": {
    "name": "ipython",
    "version": 3
   },
   "file_extension": ".py",
   "mimetype": "text/x-python",
   "name": "python",
   "nbconvert_exporter": "python",
   "pygments_lexer": "ipython3",
   "version": "3.6.3"
  }
 },
 "nbformat": 4,
 "nbformat_minor": 2
}
