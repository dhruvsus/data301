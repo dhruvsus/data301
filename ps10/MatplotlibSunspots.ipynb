{
 "cells": [
  {
   "cell_type": "markdown",
   "metadata": {},
   "source": [
    "# Visualizing Subspots"
   ]
  },
  {
   "cell_type": "markdown",
   "metadata": {},
   "source": [
    "## Imports"
   ]
  },
  {
   "cell_type": "code",
   "execution_count": null,
   "metadata": {
    "deletable": false,
    "editable": false,
    "nbgrader": {
     "checksum": "01cadc56ecf3918bf2b11c7078087e44",
     "grade": false,
     "grade_id": "mpl-sunspots-a",
     "locked": true,
     "schema_version": 1,
     "solution": false
    }
   },
   "outputs": [],
   "source": [
    "%matplotlib inline\n",
    "import matplotlib.pyplot as plt\n",
    "import numpy as np\n",
    "import pandas as pd"
   ]
  },
  {
   "cell_type": "markdown",
   "metadata": {},
   "source": [
    "## Read sunspot data"
   ]
  },
  {
   "cell_type": "markdown",
   "metadata": {},
   "source": [
    "The data for this notebook comes from the \"Yearly mean total sunspot number [1700 - now]\" from the [SILSO](http://www.sidc.be/silso/datafiles) website. \n",
    "\n",
    "Use Pandas `read_csv` function to read the file `data/SN_y_tot_V2.0.csv` as a `DataFrame`:\n",
    "\n",
    "* Look at the tests below for information on how to parse the CSV file.\n",
    "* You will likely need to set the `sep`, `header`, `usecols` and `names` keyword arguments to `read_csv`.\n",
    "* In the `SunspotsError` column, replace the missing value `-1` by `0`.\n",
    "* Save your `DataFrame` in a variable `data`."
   ]
  },
  {
   "cell_type": "code",
   "execution_count": null,
   "metadata": {
    "deletable": false,
    "nbgrader": {
     "checksum": "8682a96a3e5ee28fde95844e0707439e",
     "grade": false,
     "grade_id": "mpl-sunspots-b",
     "locked": false,
     "schema_version": 1,
     "solution": true
    }
   },
   "outputs": [],
   "source": [
    "# YOUR CODE HERE\n",
    "raise NotImplementedError()"
   ]
  },
  {
   "cell_type": "code",
   "execution_count": null,
   "metadata": {
    "deletable": false,
    "editable": false,
    "nbgrader": {
     "checksum": "001e9bc069e5c48dd6d2947a405f3856",
     "grade": false,
     "grade_id": "mpl-sunspots-c",
     "locked": true,
     "schema_version": 1,
     "solution": false
    }
   },
   "outputs": [],
   "source": [
    "data.head()"
   ]
  },
  {
   "cell_type": "code",
   "execution_count": null,
   "metadata": {
    "deletable": false,
    "editable": false,
    "nbgrader": {
     "checksum": "c513dba1691140aa5c18450c3457c5c3",
     "grade": true,
     "grade_id": "mpl-sunspots-d",
     "locked": true,
     "points": 2,
     "schema_version": 1,
     "solution": false
    }
   },
   "outputs": [],
   "source": [
    "assert list(data.columns)==['Year', 'Sunspots', 'SunspotsError']\n",
    "assert len(data)==317\n",
    "assert data.Year.dtype==np.dtype(float)\n",
    "assert data.Sunspots.dtype==np.dtype(float)\n",
    "assert data.SunspotsError.dtype==np.dtype(float)"
   ]
  },
  {
   "cell_type": "markdown",
   "metadata": {},
   "source": [
    "## Line chart"
   ]
  },
  {
   "cell_type": "markdown",
   "metadata": {},
   "source": [
    "Make a line plot showing the sunspot count (y) as a function of year (x).\n",
    "\n",
    "* Use the default Matplotlib 2.0 style as your starting point.\n",
    "* Adjust the aspect ratio/size so that the steepest slope in your plot is *approximately* 1.\n",
    "* Label the x- and y- axes and plot title.\n",
    "* Use y axis gridlines.\n",
    "* Pass data to `plt.plot` using the `data` keyword argument for Matpotlib."
   ]
  },
  {
   "cell_type": "code",
   "execution_count": null,
   "metadata": {
    "deletable": false,
    "nbgrader": {
     "checksum": "bcdb1cb54a2350cfc67c9a8e66dc56fa",
     "grade": true,
     "grade_id": "mpl-sunspots-e",
     "locked": false,
     "points": 2,
     "schema_version": 1,
     "solution": true
    }
   },
   "outputs": [],
   "source": [
    "# YOUR CODE HERE\n",
    "raise NotImplementedError()"
   ]
  },
  {
   "cell_type": "markdown",
   "metadata": {},
   "source": [
    "## Measurements with error bars"
   ]
  },
  {
   "cell_type": "markdown",
   "metadata": {},
   "source": [
    "Make a scatter plot with error bars showing the sunspot count (y) and its error (yerr) over time (x).\n",
    "\n",
    "* Use the default Matplotlib 2.0 style as your starting point.\n",
    "* Adjust the aspect ratio/size so that the steepest slope in your plot is *approximately* 1.\n",
    "* Label the x- and y- axes and plot title.\n",
    "* Use y axis gridlines.\n",
    "* Pass data to `plt.errorbar` using the `data` keyword argument for Matpotlib.\n",
    "* Filter the `DataFrame` to only include years after 1985.\n",
    "* Use a format of `fmt='.k'`."
   ]
  },
  {
   "cell_type": "code",
   "execution_count": null,
   "metadata": {
    "deletable": false,
    "nbgrader": {
     "checksum": "03dcb9c131f8c88f184038e6ab581132",
     "grade": true,
     "grade_id": "mpl-sunspots-f",
     "locked": false,
     "points": 2,
     "schema_version": 1,
     "solution": true
    }
   },
   "outputs": [],
   "source": [
    "# YOUR CODE HERE\n",
    "raise NotImplementedError()"
   ]
  },
  {
   "cell_type": "markdown",
   "metadata": {},
   "source": [
    "## Subplots by century"
   ]
  },
  {
   "cell_type": "markdown",
   "metadata": {},
   "source": [
    "Now make 4 subplots, one for each century in the data set, with the x axis for time and the y axis for count. This approach works well for this dataset as it allows you to maintain mild slopes while limiting the overall width of the visualization. Perform similar customizations as above:\n",
    "\n",
    "* Use the default Matplotlib 2.0 style as your starting point.\n",
    "* Label the x- and y- axes and plot title.\n",
    "* Use y axis gridlines.\n",
    "* Pass data to `plt.plot` using the `data` keyword argument for Matpotlib.\n",
    "* Set appropriate plot limits for each century."
   ]
  },
  {
   "cell_type": "code",
   "execution_count": null,
   "metadata": {
    "deletable": false,
    "nbgrader": {
     "checksum": "ac575bc0f717bf06907075c0ef952ddf",
     "grade": true,
     "grade_id": "mpl-sunspots-g",
     "locked": false,
     "points": 4,
     "schema_version": 1,
     "solution": true
    }
   },
   "outputs": [],
   "source": [
    "# YOUR CODE HERE\n",
    "raise NotImplementedError()"
   ]
  }
 ],
 "metadata": {
  "kernelspec": {
   "display_name": "Python 3",
   "language": "python",
   "name": "python3"
  },
  "language_info": {
   "codemirror_mode": {
    "name": "ipython",
    "version": 3
   },
   "file_extension": ".py",
   "mimetype": "text/x-python",
   "name": "python",
   "nbconvert_exporter": "python",
   "pygments_lexer": "ipython3",
   "version": "3.6.3"
  }
 },
 "nbformat": 4,
 "nbformat_minor": 2
}
