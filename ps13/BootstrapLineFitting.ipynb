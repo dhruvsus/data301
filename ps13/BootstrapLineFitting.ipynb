{
 "cells": [
  {
   "cell_type": "markdown",
   "metadata": {},
   "source": [
    "# Bootstrapped Line Fitting"
   ]
  },
  {
   "cell_type": "markdown",
   "metadata": {},
   "source": [
    "In this notebook, you will use bootstrapping to estimate the uncertainty in the slope and intercept of a line fit to data."
   ]
  },
  {
   "cell_type": "markdown",
   "metadata": {},
   "source": [
    "## Imports"
   ]
  },
  {
   "cell_type": "code",
   "execution_count": 1,
   "metadata": {},
   "outputs": [],
   "source": [
    "import numpy as np\n",
    "from matplotlib import pyplot as plt\n",
    "%matplotlib inline"
   ]
  },
  {
   "cell_type": "markdown",
   "metadata": {},
   "source": [
    "## Generative Model"
   ]
  },
  {
   "cell_type": "markdown",
   "metadata": {},
   "source": [
    "We start with a generative model:\n",
    "\n",
    "$$\n",
    "x \\sim U(10,20)\n",
    "$$\n",
    "\n",
    "$$\n",
    "y \\sim w x + b + N(0,\\sigma^2)\n",
    "$$\n",
    "\n",
    "Here are the input parameters we are going to use for this model."
   ]
  },
  {
   "cell_type": "code",
   "execution_count": 2,
   "metadata": {
    "deletable": false,
    "editable": false,
    "nbgrader": {
     "checksum": "f3ac1afc23948643f5e8f9b779bd6589",
     "grade": false,
     "grade_id": "bootstrap-line-a",
     "locked": true,
     "schema_version": 1,
     "solution": false
    }
   },
   "outputs": [],
   "source": [
    "w = 0.75\n",
    "b = 3.5\n",
    "sigma = 0.5"
   ]
  },
  {
   "cell_type": "markdown",
   "metadata": {},
   "source": [
    "Generate two NumPy arrays of 50 points for this model. Store these values in the arrays `x` and `y`:"
   ]
  },
  {
   "cell_type": "code",
   "execution_count": 9,
   "metadata": {
    "deletable": false,
    "nbgrader": {
     "checksum": "2570592c1fd78bd691befae7cceb2f93",
     "grade": true,
     "grade_id": "bootstrap-line-b",
     "locked": false,
     "points": 2,
     "schema_version": 1,
     "solution": true
    }
   },
   "outputs": [],
   "source": [
    "# YOUR CODE HERE\n",
    "def model(x, w, b):\n",
    "    return w*x+b\n",
    "x = np.random.uniform(10.0, 20.0, 50)\n",
    "y = model(x, w, b) + np.random.normal(0, sigma, 50)"
   ]
  },
  {
   "cell_type": "markdown",
   "metadata": {},
   "source": [
    "Make an appropriately labeled scatter plot of the `x` and `y` data. You should see fluctuations around a straight line. If you don't, you forgot to pass the `size` argument to `np.random.normal` when generating your data above."
   ]
  },
  {
   "cell_type": "code",
   "execution_count": 10,
   "metadata": {
    "deletable": false,
    "nbgrader": {
     "checksum": "25a0fd11dcf013e8afdb0bb7d03c1e7d",
     "grade": true,
     "grade_id": "bootstrap-line-c",
     "locked": false,
     "points": 2,
     "schema_version": 1,
     "solution": true
    }
   },
   "outputs": [
    {
     "data": {
      "image/png": "[encoded data removed]",
      "text/plain": [
       "<matplotlib.figure.Figure at 0x7fb8629d39b0>"
      ]
     },
     "metadata": {},
     "output_type": "display_data"
    }
   ],
   "source": [
    "# YOUR CODE HERE\n",
    "plt.scatter(x, y)\n",
    "plt.xlabel('X')\n",
    "plt.ylabel('Y')\n",
    "plt.grid(True)"
   ]
  },
  {
   "cell_type": "markdown",
   "metadata": {},
   "source": [
    "## Fitting the model"
   ]
  },
  {
   "cell_type": "code",
   "execution_count": 11,
   "metadata": {
    "deletable": false,
    "editable": false,
    "nbgrader": {
     "checksum": "a76f1f03b08cf1f99d0b9c6f94fa94ab",
     "grade": false,
     "grade_id": "bootstrap-line-d",
     "locked": true,
     "schema_version": 1,
     "solution": false
    }
   },
   "outputs": [],
   "source": [
    "from scipy.optimize import minimize"
   ]
  },
  {
   "cell_type": "markdown",
   "metadata": {},
   "source": [
    "Write a function that computes the MSE for the model $y_{model}(x) = w x + b$:"
   ]
  },
  {
   "cell_type": "code",
   "execution_count": 13,
   "metadata": {
    "deletable": false,
    "nbgrader": {
     "checksum": "8631ccdb9b2d62563aa3fd17b654cdff",
     "grade": true,
     "grade_id": "bootstrap-line-e",
     "locked": false,
     "points": 2,
     "schema_version": 1,
     "solution": true
    }
   },
   "outputs": [],
   "source": [
    "def mse(theta, x, y):\n",
    "    \"\"\"Compute the mean squared error (MSE) for our model.\n",
    "    \n",
    "    Parameters\n",
    "    ----------\n",
    "    theta: array, list, tuple\n",
    "        The array of model parameters [w, b].\n",
    "    x: np.array\n",
    "        The observed x data.\n",
    "    y: np.array\n",
    "        The observed y data.\n",
    "\n",
    "    \"\"\"\n",
    "    # YOUR CODE HERE\n",
    "    w=theta[0]\n",
    "    b=theta[1]\n",
    "    return np.sum((y-b-w*x)**2)/(len(y))"
   ]
  },
  {
   "cell_type": "markdown",
   "metadata": {},
   "source": [
    "Write a function that uses `scipy.optimize.minimize` to minimize the above MSE to find the best value of theta."
   ]
  },
  {
   "cell_type": "code",
   "execution_count": 26,
   "metadata": {
    "deletable": false,
    "nbgrader": {
     "checksum": "e4b7974d3863f0da2238665ca9d70c64",
     "grade": true,
     "grade_id": "bootstrap-line-f",
     "locked": false,
     "points": 2,
     "schema_version": 1,
     "solution": true
    }
   },
   "outputs": [],
   "source": [
    "def fit(x, y):\n",
    "    \"\"\"Fit our model to observed data and return the best values of theta = [w, b].\"\"\"\n",
    "    # YOUR CODE HERE\n",
    "    return minimize(mse,x0=(1,1), args= (x, y)).x"
   ]
  },
  {
   "cell_type": "markdown",
   "metadata": {},
   "source": [
    "Here are the estimated model parameters. These should be close to the true values we used to generate the data:"
   ]
  },
  {
   "cell_type": "code",
   "execution_count": 27,
   "metadata": {
    "deletable": false,
    "editable": false,
    "nbgrader": {
     "checksum": "7637b65a30686d418f2f78ba15168b04",
     "grade": false,
     "grade_id": "bootstrap-line-g",
     "locked": true,
     "schema_version": 1,
     "solution": false
    }
   },
   "outputs": [
    {
     "data": {
      "text/plain": [
       "(0.74486153241292852, 3.6252177530620537)"
      ]
     },
     "execution_count": 27,
     "metadata": {},
     "output_type": "execute_result"
    }
   ],
   "source": [
    "w_hat, b_hat = fit(x,y)\n",
    "w_hat, b_hat"
   ]
  },
  {
   "cell_type": "markdown",
   "metadata": {},
   "source": [
    "Compute the residuals and visualize them with an appropriately labeled histogram:"
   ]
  },
  {
   "cell_type": "code",
   "execution_count": 58,
   "metadata": {
    "deletable": false,
    "nbgrader": {
     "checksum": "3d2789a860c669abfd96d44583c6cb65",
     "grade": true,
     "grade_id": "bootstrap-line-h",
     "locked": false,
     "points": 2,
     "schema_version": 1,
     "solution": true
    }
   },
   "outputs": [
    {
     "data": {
      "image/png": "[encoded data removed]",
      "text/plain": [
       "<matplotlib.figure.Figure at 0x7fb861ca2da0>"
      ]
     },
     "metadata": {},
     "output_type": "display_data"
    }
   ],
   "source": [
    "x = np.random.uniform(10.0, 20.0, 50)\n",
    "y_observed=model(x, 0.75, 3.5) + np.random.normal(0, sigma, 50)\n",
    "y_predicted=model(x, w_hat, b_hat)\n",
    "residual=(y_observed)-(y_predicted)\n",
    "_=plt.hist(residual,bins=10)\n",
    "_=plt.xlabel(\"value of residual\")\n",
    "_=plt.ylabel(\"frequency of residual\")\n",
    "plt.show()"
   ]
  },
  {
   "cell_type": "markdown",
   "metadata": {},
   "source": [
    "Compute the $R^2$ for the model:"
   ]
  },
  {
   "cell_type": "code",
   "execution_count": 59,
   "metadata": {
    "deletable": false,
    "nbgrader": {
     "checksum": "91adac3b57f013ed15be12fd1537830e",
     "grade": true,
     "grade_id": "bootstrap-line-i",
     "locked": false,
     "points": 2,
     "schema_version": 1,
     "solution": true
    }
   },
   "outputs": [
    {
     "data": {
      "text/plain": [
       "89.32077711845632"
      ]
     },
     "execution_count": 59,
     "metadata": {},
     "output_type": "execute_result"
    }
   ],
   "source": [
    "y_bar=(np.sum(y_observed))/len(y_observed)\n",
    "ssr=np.sum((y_observed-y_bar)**2)\n",
    "ssto=np.sum((y_predicted-y_bar)**2)\n",
    "r_squared=ssr/ssto\n",
    "r_squared"
   ]
  },
  {
   "cell_type": "markdown",
   "metadata": {},
   "source": [
    "Plot the model predictions (line), on the same plot as the original data (points). Label the two series of data using a legend."
   ]
  },
  {
   "cell_type": "code",
   "execution_count": 66,
   "metadata": {
    "deletable": false,
    "nbgrader": {
     "checksum": "89e27aaa4bb5ba1c5740b7ff6e2f324a",
     "grade": true,
     "grade_id": "bootstrap-line-j",
     "locked": false,
     "points": 2,
     "schema_version": 1,
     "solution": true
    }
   },
   "outputs": [
    {
     "data": {
      "image/png": "[encoded data removed]",
      "text/plain": [
       "<matplotlib.figure.Figure at 0x7fb861007470>"
      ]
     },
     "metadata": {},
     "output_type": "display_data"
    }
   ],
   "source": [
    "w = 0.75\n",
    "b = 3.5\n",
    "sigma = 0.5\n",
    "w_hat, b_hat = fit(x,y)\n",
    "w_hat, b_hat\n",
    "x = np.random.uniform(10.0, 20.0, 50)\n",
    "y_observed=model(x, 0.75, 3.5) + np.random.normal(0, sigma, 50)\n",
    "y_predicted=model(x, w_hat, b_hat)\n",
    "observed=plt.scatter(x, y_observed,color='r')\n",
    "predicted, =plt.plot(x,y_predicted)\n",
    "plt.xlabel('X')\n",
    "plt.ylabel('Y')\n",
    "plt.legend((observed,predicted),('observed','predicted'))\n",
    "plt.grid(True)"
   ]
  },
  {
   "cell_type": "markdown",
   "metadata": {},
   "source": [
    "## Bootstrap"
   ]
  },
  {
   "cell_type": "markdown",
   "metadata": {},
   "source": [
    "Write a function, `bootstrap`, that can create boostrapped versions of the `x` and `x` arrays above. It is important that you bootstrap pairs of `x[i],y[i]` to preserve correlations in the model. Remember, to bootstrap data you will draw random samples with replacement."
   ]
  },
  {
   "cell_type": "code",
   "execution_count": 69,
   "metadata": {
    "deletable": false,
    "nbgrader": {
     "checksum": "c5878ba46eb13e8eabfb2ee7f0eca556",
     "grade": false,
     "grade_id": "bootstrap-line-k",
     "locked": false,
     "schema_version": 1,
     "solution": true
    }
   },
   "outputs": [],
   "source": [
    "def bootstrap(x, y):\n",
    "    \"\"\"Return boostrapped versions of the input X and Y arrays, perserving correlations.\n",
    "    \n",
    "    Parameters\n",
    "    ----------\n",
    "    x: ndarray\n",
    "        Input x array.\n",
    "    y: ndarray\n",
    "        Input y array.\n",
    "    \n",
    "    Returns\n",
    "    -------\n",
    "    xx: ndarray\n",
    "        The boostrapped x array with the same shape as x and correlated random samples\n",
    "        drawn with replacement.\n",
    "    yy: ndarray\n",
    "        The bootstrapped y array with the same shape as y and correlated random samples\n",
    "        drawn with replacement.\n",
    "    \"\"\"\n",
    "    # YOUR CODE HERE\n",
    "    ind = np.random.randint(0, len(x), len(y))\n",
    "    return x[ind], y[ind]"
   ]
  },
  {
   "cell_type": "code",
   "execution_count": 70,
   "metadata": {
    "deletable": false,
    "editable": false,
    "nbgrader": {
     "checksum": "217f9ceec8069a40a577943997f06362",
     "grade": true,
     "grade_id": "bootstrap-line-l",
     "locked": true,
     "points": 2,
     "schema_version": 1,
     "solution": false
    }
   },
   "outputs": [],
   "source": [
    "np.random.seed(0)\n",
    "a = np.array([0,1,2,3])\n",
    "b = np.array([4,5,6,7])\n",
    "ab, bb = bootstrap(a, b)\n",
    "for element in ab:\n",
    "    assert element in a\n",
    "for element in bb:\n",
    "    assert element in b\n",
    "assert len(a)==len(ab)\n",
    "assert len(ab)==len(bb)"
   ]
  },
  {
   "cell_type": "markdown",
   "metadata": {},
   "source": [
    "Write a function, `bootstrap_fit`, that takes finds the slope and intercept of the input `X` and `Y` data  using the `fit` function above. Your function should perform this fit `n` times using bootstrapped data."
   ]
  },
  {
   "cell_type": "code",
   "execution_count": 71,
   "metadata": {
    "deletable": false,
    "nbgrader": {
     "checksum": "9825a0b1c1c5f5e17b416142a20d6095",
     "grade": true,
     "grade_id": "bootstrap-line-m",
     "locked": false,
     "points": 2,
     "schema_version": 1,
     "solution": true
    }
   },
   "outputs": [],
   "source": [
    "def bootstrap_fit(x, y, n):\n",
    "    \"\"\"Fit a straight line to x and y n times using bootstrapping.\n",
    "    \n",
    "    Returns\n",
    "    -------\n",
    "    (w, b): tuple of ndarrays\n",
    "        A tuple of 1d arrays with the bootstrapped values of the weight and intercept.\n",
    "    \"\"\"\n",
    "    # YOUR CODE HERE\n",
    "    m = np.zeros(n)\n",
    "    b = np.zeros(n)\n",
    "    \n",
    "    for i in range(n):\n",
    "        bootX, bootY = bootstrap(x, y)\n",
    "        m[i], b[i] = fit(bootX, bootY)\n",
    "        \n",
    "    return m, b"
   ]
  },
  {
   "cell_type": "markdown",
   "metadata": {},
   "source": [
    "Using the original `x` and `y` data above:\n",
    "\n",
    "* Find the bootstrapped weights/slopes and intercepts (bootstrap 200 times).\n",
    "* Make an appropriately labeled 2d histogram of the bootstrapped slopes and intercepts.\n",
    "* Find and print the 95% confidence intervals for the slope and intercept."
   ]
  },
  {
   "cell_type": "code",
   "execution_count": 76,
   "metadata": {
    "deletable": false,
    "nbgrader": {
     "checksum": "f08fd5fe90be7fb35c344d2fe8876189",
     "grade": true,
     "grade_id": "bootstrap-line-n",
     "locked": false,
     "points": 2,
     "schema_version": 1,
     "solution": true
    }
   },
   "outputs": [
    {
     "data": {
      "image/png": "[encoded data removed]",
      "text/plain": [
       "<matplotlib.figure.Figure at 0x7fb8617aa278>"
      ]
     },
     "metadata": {},
     "output_type": "display_data"
    },
    {
     "name": "stdout",
     "output_type": "stream",
     "text": [
      "Slope 95% Confidence Interval: [-0.13726323  0.31109439]\n",
      "Intercetp 95% Confidence Interval: [ 10.13226496  17.18918296]\n"
     ]
    }
   ],
   "source": [
    "m,b=bootstrap_fit(x,y,200)\n",
    "plt.scatter(m,b)\n",
    "plt.xlabel('Slope')\n",
    "plt.ylabel('Intercept')\n",
    "plt.show()\n",
    "print(\"Slope 95% Confidence Interval:\", np.percentile(m, (2.5, 97.5)))\n",
    "print(\"Intercetp 95% Confidence Interval:\", np.percentile(b, (2.5, 97.5)))"
   ]
  },
  {
   "cell_type": "code",
   "execution_count": null,
   "metadata": {},
   "outputs": [],
   "source": []
  }
 ],
 "metadata": {
  "kernelspec": {
   "display_name": "Python 3",
   "language": "python",
   "name": "python3"
  },
  "language_info": {
   "codemirror_mode": {
    "name": "ipython",
    "version": 3
   },
   "file_extension": ".py",
   "mimetype": "text/x-python",
   "name": "python",
   "nbconvert_exporter": "python",
   "pygments_lexer": "ipython3",
   "version": "3.6.3"
  }
 },
 "nbformat": 4,
 "nbformat_minor": 2
}
