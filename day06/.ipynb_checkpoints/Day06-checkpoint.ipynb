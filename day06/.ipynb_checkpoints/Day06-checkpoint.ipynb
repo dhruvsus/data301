{
 "cells": [
  {
   "cell_type": "markdown",
   "metadata": {},
   "source": [
    "# Day 6\n",
    "\n",
    "* Introduction to Data Science (Data 301)\n",
    "* Cal Poly, Winter 2018\n",
    "* Brian E. Granger"
   ]
  },
  {
   "cell_type": "markdown",
   "metadata": {},
   "source": [
    "## Announcements"
   ]
  },
  {
   "cell_type": "markdown",
   "metadata": {},
   "source": [
    "* Midterm coming on day 9 of class."
   ]
  },
  {
   "cell_type": "markdown",
   "metadata": {},
   "source": [
    "## In class\n",
    "\n",
    "* Grab materials for the day\n",
    "  - `cd` - go back to your home directory\n",
    "  - `nbgrader list --course data301`\n",
    "  - `nbgrader fetch --course data301 day06`\n",
    "  - `nbgrader fetch --course data301 ps5`\n",
    "* Turn in `ps4`:\n",
    "  * `cd ps4`\n",
    "  * `nbgrader validate *`\n",
    "  * `nbgrader submit --course data301 .`\n",
    "* To reset/update course materials:\n",
    "  - `cd`\n",
    "  - `cd data301`\n",
    "  - `make update`\n",
    "* Today's material\n",
    "  - Visualize\n",
    "    - 06-SeattleWeather\n",
    "  - Python Data Science Handbook\n",
    "    - NumPy (Chapter 2)"
   ]
  },
  {
   "cell_type": "markdown",
   "metadata": {},
   "source": [
    "## Out of class\n",
    "\n",
    "* Complete `ps5` by the beginning of class, Tuesday, day 7.\n",
    "* Complete DataCamp course \"Introduction to Data Science (DATA 301)\" by 3pm, Tuesday, day 7."
   ]
  }
 ],
 "metadata": {
  "kernelspec": {
   "display_name": "Python 3",
   "language": "python",
   "name": "python3"
  },
  "language_info": {
   "codemirror_mode": {
    "name": "ipython",
    "version": 3
   },
   "file_extension": ".py",
   "mimetype": "text/x-python",
   "name": "python",
   "nbconvert_exporter": "python",
   "pygments_lexer": "ipython3",
   "version": "3.6.3"
  }
 },
 "nbformat": 4,
 "nbformat_minor": 2
}
