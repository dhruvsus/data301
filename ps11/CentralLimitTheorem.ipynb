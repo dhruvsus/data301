{
 "cells": [
  {
   "cell_type": "markdown",
   "metadata": {},
   "source": [
    "# Central Limit Theorem"
   ]
  },
  {
   "cell_type": "markdown",
   "metadata": {},
   "source": [
    "In this notebook you will learn about the [Central Limit Theorem](https://en.wikipedia.org/wiki/Central_limit_theorem). This theorem describes, in a very concise and quantitative manner, why the normal distribution is one of the key foundations of statistical modelling."
   ]
  },
  {
   "cell_type": "markdown",
   "metadata": {},
   "source": [
    "## Imports"
   ]
  },
  {
   "cell_type": "code",
   "execution_count": 1,
   "metadata": {},
   "outputs": [],
   "source": [
    "import numpy as np\n",
    "%matplotlib inline\n",
    "from matplotlib import pyplot as plt"
   ]
  },
  {
   "cell_type": "markdown",
   "metadata": {},
   "source": [
    "## Statement of the CLT"
   ]
  },
  {
   "cell_type": "markdown",
   "metadata": {},
   "source": [
    "We begin with a relatively precise statement of the [Central Limit Theorem](https://en.wikipedia.org/wiki/Central_limit_theorem) or CTL.\n",
    "\n",
    "Let $x_i$ be a random variable with mean $\\mu$ and variance $\\sigma^2$:\n",
    "\n",
    "* $ E[x_i] = \\mu $\n",
    "* $ var[x_i] = \\sigma^2 $\n",
    "\n",
    "A critical part of this theorem is that the $x_i$ can be drawn from *any* probability distribution, as long as it has a known $\\mu$ and $\\sigma^2$. The $x_i$ could be from the uniform distribution, the $\\chi_k^2$ distribution or the [t-distribution](https://en.wikipedia.org/wiki/Student%27s_t-distribution); any distribution will do!\n",
    "\n",
    "Then we have the following:\n",
    "\n",
    "$$ \\sqrt{n} \\left ( \\left( \\frac{1}{n} \\sum_{i=1}^{n} x_i \\right) - \\mu \\right) + \\mu \\rightarrow N(\\mu,\\sigma^2) $$\n",
    "\n",
    "Here it is in words:\n",
    "\n",
    "* Take $n$ random variates, $x_i$ from any distribution with $\\mu$ and $\\sigma^2$ and average them.\n",
    "* Subtract $\\mu$\n",
    "* Multiply by $\\sqrt{n}$\n",
    "* Add $\\mu$\n",
    "* As $n$ becomes large, each time you do that process you will get a single random variate from $N(\\mu, \\sigma^2)$\n",
    "\n",
    "Or at a slightly higher level:\n",
    "\n",
    "> Taking lots of steps using random variates from *any* distribution will give you a normal distribution"
   ]
  },
  {
   "cell_type": "markdown",
   "metadata": {},
   "source": [
    "## Alternate uniform distribution"
   ]
  },
  {
   "cell_type": "markdown",
   "metadata": {},
   "source": [
    "To illustrate the Central Limit Theorem (CLT), we are going to use the uniform distribution. The usual parametrization of the uniform distribution is written in terms of the limits of the distribution $a$ and $b$ (this is what `numpy.random.uniform` uses):\n",
    "\n",
    "$$ X \\sim U(a,b) $$\n",
    "\n",
    "To simulate the CLT, we need an alternate parametrization uses the mean and variance:\n",
    "\n",
    "$$ X \\sim U(\\mu, \\sigma^2) $$\n",
    "\n",
    "The parameters are related through the transforms:\n",
    "\n",
    "$$ d = \\sqrt{3 \\sigma^2} $$\n",
    "$$ a = \\mu -d $$\n",
    "$$ b = \\mu + d $$\n",
    "\n",
    "Write a function, `uniform2`, that returns random variates from the uniform distribution parametrized by $\\mu$ and $\\sigma$:"
   ]
  },
  {
   "cell_type": "code",
   "execution_count": null,
   "metadata": {
    "deletable": false,
    "nbgrader": {
     "checksum": "37ebab8b9bfead8f3340dbffaddcac84",
     "grade": false,
     "grade_id": "clt-a",
     "locked": false,
     "schema_version": 1,
     "solution": true
    }
   },
   "outputs": [],
   "source": [
    "def uniform2(mu, sigma, size=1):\n",
    "    \"\"\"Return uniform random variates with mean mu and standard dev sigma.\"\"\"\n",
    "    # YOUR CODE HERE\n",
    "    raise NotImplementedError()"
   ]
  },
  {
   "cell_type": "code",
   "execution_count": null,
   "metadata": {
    "deletable": false,
    "editable": false,
    "nbgrader": {
     "checksum": "8fb67e228882bf78466d86e2c6cf4d0f",
     "grade": true,
     "grade_id": "clt-b",
     "locked": true,
     "points": 2,
     "schema_version": 1,
     "solution": false
    }
   },
   "outputs": [],
   "source": [
    "np.random.seed(0)\n",
    "mu = 10.0\n",
    "sigma = 3.0\n",
    "data = uniform2(mu, sigma, 300)\n",
    "assert isinstance(data, np.ndarray)\n",
    "assert abs(data.mean()-mu) < 0.2\n",
    "assert abs(data.var()-sigma**2) < 0.2"
   ]
  },
  {
   "cell_type": "markdown",
   "metadata": {},
   "source": [
    "## The CTL"
   ]
  },
  {
   "cell_type": "markdown",
   "metadata": {},
   "source": [
    "Using the `uniform2` function above, write a function, `normal2(mu, sigma, size=1)` that simulates normal random variates using the CTL using the above equation:\n",
    "\n",
    "* Use $n=250$ with the above equation\n",
    "* Return your result as a NumPy array with `size` elements"
   ]
  },
  {
   "cell_type": "code",
   "execution_count": null,
   "metadata": {
    "deletable": false,
    "nbgrader": {
     "checksum": "76ec8a21b95d2b2a35a3ccb1c7bda75b",
     "grade": true,
     "grade_id": "clt-c",
     "locked": false,
     "points": 4,
     "schema_version": 1,
     "solution": true
    }
   },
   "outputs": [],
   "source": [
    "def normal2(mu, sigma, size=1):\n",
    "    \"\"\"Return random variates from N(mu, sigma^2) using the CLT.\n",
    "    \n",
    "    Parameters\n",
    "    ----------\n",
    "    mu : float\n",
    "        The mean of the normal distribution.\n",
    "    sigma : float\n",
    "        The standard deviation of the normal distribution.\n",
    "    size : int\n",
    "        The number of random variates to return as a NumPy array.\n",
    "    \"\"\"\n",
    "    # YOUR CODE HERE\n",
    "    raise NotImplementedError()"
   ]
  },
  {
   "cell_type": "markdown",
   "metadata": {},
   "source": [
    "## Comparisons"
   ]
  },
  {
   "cell_type": "markdown",
   "metadata": {},
   "source": [
    "Now you will compare the results of your `normal2` function with those of NumPy's own `numpy.random.normal` function.\n",
    "\n",
    "* Draw `500` samples from using both `normal2` and `numpy.random.normal` for $\\mu=5.0$ and $\\sigma=0.5$.\n",
    "* Make two histograms of this data using Matplotlib.\n",
    "* Each histogram should be in a separate Matplotlib `subplot` and the two subplots should be right above each other and have the same limits and a shared x axis (use `plt.subplots`).\n",
    "* Label your axes and title appropriately."
   ]
  },
  {
   "cell_type": "code",
   "execution_count": null,
   "metadata": {
    "deletable": false,
    "nbgrader": {
     "checksum": "4b18a3dda03415bdff71648135464134",
     "grade": true,
     "grade_id": "clt-d",
     "locked": false,
     "points": 4,
     "schema_version": 1,
     "solution": true
    }
   },
   "outputs": [],
   "source": [
    "# YOUR CODE HERE\n",
    "raise NotImplementedError()"
   ]
  },
  {
   "cell_type": "markdown",
   "metadata": {},
   "source": [
    "A better way of comparing two distributions is use make plots of the [cumulative distribution function](https://en.wikipedia.org/wiki/Cumulative_distribution_function) (CDF). The CDF is just the integral of the probability density function (PDF). Here is a Python function that uses Matplotlib to make a CDF from a distribution of data."
   ]
  },
  {
   "cell_type": "code",
   "execution_count": null,
   "metadata": {
    "deletable": false,
    "editable": false,
    "nbgrader": {
     "checksum": "5d8abfca0c5945531e32dcedf342daae",
     "grade": false,
     "grade_id": "clt-e",
     "locked": true,
     "schema_version": 1,
     "solution": false
    }
   },
   "outputs": [],
   "source": [
    "def plot_cdf(data, **kwargs):\n",
    "    \"\"\"Plot the CDF of a 1d distribution of data.\n",
    "    \n",
    "    You can use kwargs to pass keyword arguments to the Matplotlib plotting function.\n",
    "    \"\"\"\n",
    "    m = len(data)\n",
    "    plt.step(sorted(data), np.arange(m), **kwargs)"
   ]
  },
  {
   "cell_type": "markdown",
   "metadata": {},
   "source": [
    "Use this `plot_cdf` function to visualize the CDFs of the two data sets above. Include a legend and appropriate labels."
   ]
  },
  {
   "cell_type": "code",
   "execution_count": null,
   "metadata": {
    "deletable": false,
    "nbgrader": {
     "checksum": "ce38892bc5ce1dec491485715675233f",
     "grade": true,
     "grade_id": "clt-f",
     "locked": false,
     "points": 2,
     "schema_version": 1,
     "solution": true
    }
   },
   "outputs": [],
   "source": [
    "# YOUR CODE HERE\n",
    "raise NotImplementedError()"
   ]
  }
 ],
 "metadata": {
  "kernelspec": {
   "display_name": "Python 3",
   "language": "python",
   "name": "python3"
  },
  "language_info": {
   "codemirror_mode": {
    "name": "ipython",
    "version": 3
   },
   "file_extension": ".py",
   "mimetype": "text/x-python",
   "name": "python",
   "nbconvert_exporter": "python",
   "pygments_lexer": "ipython3",
   "version": "3.6.3"
  }
 },
 "nbformat": 4,
 "nbformat_minor": 2
}
