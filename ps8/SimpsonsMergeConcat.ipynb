{
 "cells": [
  {
   "cell_type": "markdown",
   "metadata": {},
   "source": [
    "# Simpsons: Merging and Concatenation"
   ]
  },
  {
   "cell_type": "markdown",
   "metadata": {},
   "source": [
    "## Imports"
   ]
  },
  {
   "cell_type": "code",
   "execution_count": null,
   "metadata": {},
   "outputs": [],
   "source": [
    "import numpy as np\n",
    "import pandas as pd\n",
    "from pandas import DataFrame, Series"
   ]
  },
  {
   "cell_type": "markdown",
   "metadata": {},
   "source": [
    "## Relationships between DataFrames"
   ]
  },
  {
   "cell_type": "markdown",
   "metadata": {},
   "source": [
    "When you have multiple `DataFrame`s that have common keys you can have **relationships** between the entities in the different `DataFrame`s. There are three types of entity relationships that are possible:\n",
    "\n",
    "* 1-to-1\n",
    "* 1-to-many\n",
    "* many-to-many\n",
    "\n",
    "Here is a small data set from the TV show [The Simpsons](https://en.wikipedia.org/wiki/The_Simpsons) to illustrate these relationshps.\n",
    "\n",
    "First, here is a `DataFrame` with students' first and last names, along with a unique student id:"
   ]
  },
  {
   "cell_type": "code",
   "execution_count": null,
   "metadata": {
    "deletable": false,
    "editable": false,
    "nbgrader": {
     "checksum": "f71bcabf2e3d8d60aed1d73185dfaf15",
     "grade": false,
     "grade_id": "simpsons-a",
     "locked": true,
     "schema_version": 1,
     "solution": false
    }
   },
   "outputs": [],
   "source": [
    "students = DataFrame({'fname': ['Bart','Lisa','Milhouse'],\n",
    "                      'lname': ['Simpson','Simpson','Van Houten']},\n",
    "                     index=list('abc'))\n",
    "students"
   ]
  },
  {
   "cell_type": "markdown",
   "metadata": {},
   "source": [
    "Here is a `DataFrame` with the student social security numbers, indexed by their unique student id:"
   ]
  },
  {
   "cell_type": "code",
   "execution_count": null,
   "metadata": {
    "deletable": false,
    "editable": false,
    "nbgrader": {
     "checksum": "6d9cb0997ec94afcd08cf38084cf32a3",
     "grade": false,
     "grade_id": "simpsons-b",
     "locked": true,
     "schema_version": 1,
     "solution": false
    }
   },
   "outputs": [],
   "source": [
    "ssns = DataFrame({'ssn':[1234,5678,9101]}, index=list('abc'))\n",
    "ssns"
   ]
  },
  {
   "cell_type": "markdown",
   "metadata": {},
   "source": [
    "Each student can have aliases or nicknames:"
   ]
  },
  {
   "cell_type": "code",
   "execution_count": null,
   "metadata": {
    "deletable": false,
    "editable": false,
    "nbgrader": {
     "checksum": "1bc797d35e0bbc05a3d9fb0075420e49",
     "grade": false,
     "grade_id": "simpsons-c",
     "locked": true,
     "schema_version": 1,
     "solution": false
    }
   },
   "outputs": [],
   "source": [
    "aliases = DataFrame({'alias':['Bartman','Bartron','Cosmos','Truth Teller','Lady Penelope Ariel',\n",
    "                              'Jake Boyman','Lou La Trec','Eagle Eye','Maestro'],\n",
    "                     'student': list('aaabbbccc')})\n",
    "aliases"
   ]
  },
  {
   "cell_type": "markdown",
   "metadata": {},
   "source": [
    "Here are the student home addresses:"
   ]
  },
  {
   "cell_type": "code",
   "execution_count": null,
   "metadata": {
    "deletable": false,
    "editable": false,
    "nbgrader": {
     "checksum": "b2bd7f557c2d77930ccfddd5110db9ed",
     "grade": false,
     "grade_id": "simpsons-d",
     "locked": true,
     "schema_version": 1,
     "solution": false
    }
   },
   "outputs": [],
   "source": [
    "addresses = DataFrame({'address':['742 Evergreen Terrace','742 Evergreen Terrace','316 Pikeland Ave.']},\n",
    "                      index=list('abc'))\n",
    "addresses"
   ]
  },
  {
   "cell_type": "markdown",
   "metadata": {},
   "source": [
    "A table of courses the students can be enrolled in:"
   ]
  },
  {
   "cell_type": "code",
   "execution_count": null,
   "metadata": {
    "deletable": false,
    "editable": false,
    "nbgrader": {
     "checksum": "10cfb72bb30995ebbfb96102cb691dfb",
     "grade": false,
     "grade_id": "simpsons-e",
     "locked": true,
     "schema_version": 1,
     "solution": false
    }
   },
   "outputs": [],
   "source": [
    "courses = DataFrame({'name':['Biology','Math','PE','Underwater electronics']}, index=range(4))\n",
    "courses"
   ]
  },
  {
   "cell_type": "markdown",
   "metadata": {},
   "source": [
    "This table contains the enrollment for each course. Each row of this table has a student and course."
   ]
  },
  {
   "cell_type": "code",
   "execution_count": null,
   "metadata": {
    "deletable": false,
    "editable": false,
    "nbgrader": {
     "checksum": "9c6d6bc53cc07ae91a5042a50b507ce4",
     "grade": false,
     "grade_id": "simpsons-f",
     "locked": true,
     "schema_version": 1,
     "solution": false
    }
   },
   "outputs": [],
   "source": [
    "enroll = DataFrame({'student':['a','b','b','c','c','c']},index=(2,0,1,0,1,2))\n",
    "enroll"
   ]
  },
  {
   "cell_type": "markdown",
   "metadata": {},
   "source": [
    "## 1-1 relationships"
   ]
  },
  {
   "cell_type": "markdown",
   "metadata": {},
   "source": [
    "* Each student has exactly one SSN.\n",
    "* Each SSN belongs to exactly one student.\n",
    "\n",
    "Create a `DataFrame` with the students' first name, last name and social security number:"
   ]
  },
  {
   "cell_type": "code",
   "execution_count": null,
   "metadata": {
    "deletable": false,
    "nbgrader": {
     "checksum": "2680bede4cfe80627290b97889698a65",
     "grade": false,
     "grade_id": "simpsons-g",
     "locked": false,
     "schema_version": 1,
     "solution": true
    }
   },
   "outputs": [],
   "source": [
    "# YOUR CODE HERE\n",
    "raise NotImplementedError()"
   ]
  },
  {
   "cell_type": "code",
   "execution_count": null,
   "metadata": {
    "deletable": false,
    "editable": false,
    "nbgrader": {
     "checksum": "b869c251efcdc8db1f697dd6c4782e45",
     "grade": false,
     "grade_id": "simpsons-h",
     "locked": true,
     "schema_version": 1,
     "solution": false
    }
   },
   "outputs": [],
   "source": [
    "merge1"
   ]
  },
  {
   "cell_type": "code",
   "execution_count": null,
   "metadata": {
    "deletable": false,
    "editable": false,
    "nbgrader": {
     "checksum": "ccbce83cf3792cf46fc6e4bc624177a2",
     "grade": true,
     "grade_id": "simpsons-i",
     "locked": true,
     "points": 2,
     "schema_version": 1,
     "solution": false
    }
   },
   "outputs": [],
   "source": [
    "assert list(merge1.columns)==['fname', 'lname', 'ssn']\n",
    "assert list(merge1.index)==list('abc')"
   ]
  },
  {
   "cell_type": "markdown",
   "metadata": {},
   "source": [
    "## 1-many relationships"
   ]
  },
  {
   "cell_type": "markdown",
   "metadata": {},
   "source": [
    "### Students and addresses"
   ]
  },
  {
   "cell_type": "markdown",
   "metadata": {},
   "source": [
    "* Each student has exactly one address.\n",
    "* Each address can have many students.\n",
    "\n",
    "Create a `DataFrame` with the students' first name, last name and address:"
   ]
  },
  {
   "cell_type": "code",
   "execution_count": null,
   "metadata": {
    "deletable": false,
    "nbgrader": {
     "checksum": "9e86f202a118eb56ab39c53889f42daf",
     "grade": false,
     "grade_id": "simpsons-j",
     "locked": false,
     "schema_version": 1,
     "solution": true
    }
   },
   "outputs": [],
   "source": [
    "# YOUR CODE HERE\n",
    "raise NotImplementedError()"
   ]
  },
  {
   "cell_type": "code",
   "execution_count": null,
   "metadata": {
    "deletable": false,
    "editable": false,
    "nbgrader": {
     "checksum": "c46880305683e1efde44872d263def0b",
     "grade": false,
     "grade_id": "simpsons-k",
     "locked": true,
     "schema_version": 1,
     "solution": false
    }
   },
   "outputs": [],
   "source": [
    "merge2"
   ]
  },
  {
   "cell_type": "code",
   "execution_count": null,
   "metadata": {
    "deletable": false,
    "editable": false,
    "nbgrader": {
     "checksum": "07d73bc270471bbc55aaf713e6d86073",
     "grade": true,
     "grade_id": "simpsons-l",
     "locked": true,
     "points": 2,
     "schema_version": 1,
     "solution": false
    }
   },
   "outputs": [],
   "source": [
    "assert list(merge2.columns)==['fname', 'lname', 'address']\n",
    "assert list(merge2.index)==list('abc')"
   ]
  },
  {
   "cell_type": "markdown",
   "metadata": {},
   "source": [
    "### Students and aliases"
   ]
  },
  {
   "cell_type": "markdown",
   "metadata": {},
   "source": [
    "* Each student can have many aliases.\n",
    "* Each alias belong to exactly one student.\n",
    "\n",
    "Create a `DataFrame` with the students' first name, last name and alias. The index of the data frame should be the student column (a, b, c)."
   ]
  },
  {
   "cell_type": "code",
   "execution_count": null,
   "metadata": {
    "deletable": false,
    "nbgrader": {
     "checksum": "463ef3b584c7576ca019022de8da6f4e",
     "grade": false,
     "grade_id": "simpsons-m",
     "locked": false,
     "schema_version": 1,
     "solution": true
    }
   },
   "outputs": [],
   "source": [
    "# YOUR CODE HERE\n",
    "raise NotImplementedError()"
   ]
  },
  {
   "cell_type": "code",
   "execution_count": null,
   "metadata": {
    "deletable": false,
    "editable": false,
    "nbgrader": {
     "checksum": "592ccf0ae2ecf05ed885cfd1484c19f9",
     "grade": false,
     "grade_id": "simpsons-n",
     "locked": true,
     "schema_version": 1,
     "solution": false
    }
   },
   "outputs": [],
   "source": [
    "merge3"
   ]
  },
  {
   "cell_type": "code",
   "execution_count": null,
   "metadata": {
    "deletable": false,
    "editable": false,
    "nbgrader": {
     "checksum": "a2512d03c23f943876a8a1f3826c2666",
     "grade": true,
     "grade_id": "simpsons-o",
     "locked": true,
     "points": 2,
     "schema_version": 1,
     "solution": false
    }
   },
   "outputs": [],
   "source": [
    "assert list(merge3.columns)==['fname', 'lname', 'alias']\n",
    "assert list(merge3.index)==list('aaabbbccc')"
   ]
  },
  {
   "cell_type": "markdown",
   "metadata": {},
   "source": [
    "## Many-many relationships"
   ]
  },
  {
   "cell_type": "markdown",
   "metadata": {},
   "source": [
    "* A student can take multiple classes.\n",
    "* A single class can have multiple students.\n",
    "\n",
    "Create a `DataFrame` with the students first name, last name and student (a, b, c) and course name. Multiple merges may be required."
   ]
  },
  {
   "cell_type": "code",
   "execution_count": null,
   "metadata": {
    "deletable": false,
    "nbgrader": {
     "checksum": "47c946e10ed207b60cde617ad01f60e2",
     "grade": false,
     "grade_id": "simpsons-p",
     "locked": false,
     "schema_version": 1,
     "solution": true
    }
   },
   "outputs": [],
   "source": [
    "# YOUR CODE HERE\n",
    "raise NotImplementedError()"
   ]
  },
  {
   "cell_type": "code",
   "execution_count": null,
   "metadata": {
    "deletable": false,
    "editable": false,
    "nbgrader": {
     "checksum": "7ec550054596ce22aef3a42107e1f1d5",
     "grade": false,
     "grade_id": "simpsons-q",
     "locked": true,
     "schema_version": 1,
     "solution": false
    }
   },
   "outputs": [],
   "source": [
    "merge4"
   ]
  },
  {
   "cell_type": "code",
   "execution_count": null,
   "metadata": {
    "deletable": false,
    "editable": false,
    "nbgrader": {
     "checksum": "42ecd806f5b41511b1cbf89fdf3fb11b",
     "grade": true,
     "grade_id": "simpsons-r",
     "locked": true,
     "points": 2,
     "schema_version": 1,
     "solution": false
    }
   },
   "outputs": [],
   "source": [
    "assert list(merge4.columns)==['fname', 'lname', 'student', 'name']\n",
    "assert len(merge4)==7"
   ]
  },
  {
   "cell_type": "markdown",
   "metadata": {},
   "source": [
    "## Concatenation"
   ]
  },
  {
   "cell_type": "markdown",
   "metadata": {},
   "source": [
    "Use Pandas' `concat` function to combining the `students` and `ssns` `DataFrame`s by columns"
   ]
  },
  {
   "cell_type": "code",
   "execution_count": null,
   "metadata": {
    "deletable": false,
    "nbgrader": {
     "checksum": "c89b221cf2923043be900b22ba86b77c",
     "grade": false,
     "grade_id": "simpsons-s",
     "locked": false,
     "schema_version": 1,
     "solution": true
    }
   },
   "outputs": [],
   "source": [
    "# YOUR CODE HERE\n",
    "raise NotImplementedError()"
   ]
  },
  {
   "cell_type": "code",
   "execution_count": null,
   "metadata": {
    "deletable": false,
    "editable": false,
    "nbgrader": {
     "checksum": "9852811d385ffcd9e086984f3e9fa646",
     "grade": false,
     "grade_id": "simpsons-t",
     "locked": true,
     "schema_version": 1,
     "solution": false
    }
   },
   "outputs": [],
   "source": [
    "concat1"
   ]
  },
  {
   "cell_type": "code",
   "execution_count": null,
   "metadata": {
    "deletable": false,
    "editable": false,
    "nbgrader": {
     "checksum": "033096ee08236cedba64d9f46c44a138",
     "grade": true,
     "grade_id": "simpsons-u",
     "locked": true,
     "points": 2,
     "schema_version": 1,
     "solution": false
    }
   },
   "outputs": [],
   "source": [
    "assert list(concat1.columns)==['fname', 'lname', 'ssn']\n",
    "assert list(concat1.index)==list('abc')"
   ]
  },
  {
   "cell_type": "markdown",
   "metadata": {},
   "source": [
    "Do the same thing for the `students`, `ssns` and `addresses` `DataFrame`s:"
   ]
  },
  {
   "cell_type": "code",
   "execution_count": null,
   "metadata": {
    "deletable": false,
    "nbgrader": {
     "checksum": "11f20e9f34ded29757069e80cfc319ab",
     "grade": false,
     "grade_id": "simpsons-v",
     "locked": false,
     "schema_version": 1,
     "solution": true
    }
   },
   "outputs": [],
   "source": [
    "# YOUR CODE HERE\n",
    "raise NotImplementedError()"
   ]
  },
  {
   "cell_type": "code",
   "execution_count": null,
   "metadata": {
    "deletable": false,
    "editable": false,
    "nbgrader": {
     "checksum": "21a808b7d67436ea90cc70237901568d",
     "grade": false,
     "grade_id": "simpsons-w",
     "locked": true,
     "schema_version": 1,
     "solution": false
    }
   },
   "outputs": [],
   "source": [
    "concat2"
   ]
  },
  {
   "cell_type": "code",
   "execution_count": null,
   "metadata": {
    "deletable": false,
    "editable": false,
    "nbgrader": {
     "checksum": "fd403b0c8d6816c48b885d530cb0e5f7",
     "grade": true,
     "grade_id": "simpsons-x",
     "locked": true,
     "points": 2,
     "schema_version": 1,
     "solution": false
    }
   },
   "outputs": [],
   "source": [
    "assert list(concat2.columns)==['fname', 'lname', 'ssn', 'address']\n",
    "assert list(concat2.index)==list('abc')"
   ]
  }
 ],
 "metadata": {
  "kernelspec": {
   "display_name": "Python 3",
   "language": "python",
   "name": "python3"
  },
  "language_info": {
   "codemirror_mode": {
    "name": "ipython",
    "version": 3
   },
   "file_extension": ".py",
   "mimetype": "text/x-python",
   "name": "python",
   "nbconvert_exporter": "python",
   "pygments_lexer": "ipython3",
   "version": "3.6.3"
  }
 },
 "nbformat": 4,
 "nbformat_minor": 2
}
