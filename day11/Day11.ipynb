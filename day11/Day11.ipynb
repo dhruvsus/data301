{
 "cells": [
  {
   "cell_type": "markdown",
   "metadata": {},
   "source": [
    "# Day 11\n",
    "\n",
    "* Introduction to Data Science (Data 301)\n",
    "* Cal Poly, Winter 2018\n",
    "* Brian E. Granger"
   ]
  },
  {
   "cell_type": "markdown",
   "metadata": {},
   "source": [
    "## Midterm\n",
    "\n",
    "* Midterm results will be posted in your feedback folder.\n",
    "* If you want me to re-grade any part of your midterm, please email me a written request:\n",
    "  - Deadline: 1 week from today, Day 13\n",
    "  - Include your GitHub username, and which notebook you want me to regrade.\n",
    "  - Describe what you want me to look at"
   ]
  },
  {
   "cell_type": "markdown",
   "metadata": {},
   "source": [
    "## In class\n",
    "\n",
    "* Grab materials for the day\n",
    "  - `cd` - go back to your home directory\n",
    "  - `nbgrader list --course data301`\n",
    "  - `nbgrader fetch --course data301 day11`\n",
    "  - `nbgrader fetch --course data301 ps9`\n",
    "* Turn in `ps8`:\n",
    "  * `cd ps8`\n",
    "  * `nbgrader validate *`\n",
    "  * `nbgrader submit --course data301 .`\n",
    "* To reset/update course materials:\n",
    "  - `cd`\n",
    "  - `cd data301`\n",
    "  - `make update`\n",
    "* Today's material\n",
    "  - Python Data Science Handbook\n",
    "    - Pandas (Chapter 3)\n",
    "    - Aggregation and Grouping\n",
    "    - Working with Strings"
   ]
  },
  {
   "cell_type": "markdown",
   "metadata": {},
   "source": [
    "## Out of class\n",
    "\n",
    "* Complete `ps9` by the beginning of class, Thursday, day 12.\n",
    "* Complete 2 DataCamp chapters by 3pm, Thursday, day 12."
   ]
  }
 ],
 "metadata": {
  "kernelspec": {
   "display_name": "Python 3",
   "language": "python",
   "name": "python3"
  },
  "language_info": {
   "codemirror_mode": {
    "name": "ipython",
    "version": 3
   },
   "file_extension": ".py",
   "mimetype": "text/x-python",
   "name": "python",
   "nbconvert_exporter": "python",
   "pygments_lexer": "ipython3",
   "version": "3.6.3"
  }
 },
 "nbformat": 4,
 "nbformat_minor": 2
}
