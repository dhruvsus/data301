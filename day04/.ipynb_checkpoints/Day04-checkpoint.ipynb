{
 "cells": [
  {
   "cell_type": "markdown",
   "metadata": {},
   "source": [
    "# Day 4\n",
    "\n",
    "* Introduction to Data Science (Data 301)\n",
    "* Cal Poly, Winter 2018\n",
    "* Brian E. Granger"
   ]
  },
  {
   "cell_type": "markdown",
   "metadata": {},
   "source": [
    "## Announcements"
   ]
  },
  {
   "cell_type": "markdown",
   "metadata": {},
   "source": [
    "None"
   ]
  },
  {
   "cell_type": "markdown",
   "metadata": {},
   "source": [
    "## In class\n",
    "\n",
    "* Grab materials for the day\n",
    "  - `cd` - go back to your home directory\n",
    "  - `nbgrader list --course data301`\n",
    "  - `nbgrader fetch --course data301 day04`\n",
    "  - `nbgrader fetch --course data301 ps3`\n",
    "* Turn in `ps2`:\n",
    "  * `cd ps2`\n",
    "  * `nbgrader validate *`\n",
    "  * `nbgrader submit --course data301 .`\n",
    "* To reset/update course materials:\n",
    "  - `cd`\n",
    "  - `cd data301`\n",
    "  - `make update`\n",
    "* Today's material\n",
    "  - Whirlwind Tour of Python\n",
    "    - List Comprehensions\n",
    "    - Generators\n",
    "    - Modules and Packages\n",
    "    - Strings (w/o regular expressions)\n",
    "  - Introduction\n",
    "    - 03-TheoryofData.ipynb\n",
    "  - Visualize\n",
    "    - 01-Introduction.ipynb\n",
    "    - 02-VisualizationGrammar.ipynb"
   ]
  },
  {
   "cell_type": "markdown",
   "metadata": {},
   "source": [
    "## Out of class\n",
    "\n",
    "* Complete `ps3` by the beginning of class, Tuesday, day 5.\n",
    "* Complete DataCamp course, \"Intro to Python for Data Science,\" by 3pm, Tuesday, day 5."
   ]
  }
 ],
 "metadata": {
  "kernelspec": {
   "display_name": "Python 3",
   "language": "python",
   "name": "python3"
  },
  "language_info": {
   "codemirror_mode": {
    "name": "ipython",
    "version": 3
   },
   "file_extension": ".py",
   "mimetype": "text/x-python",
   "name": "python",
   "nbconvert_exporter": "python",
   "pygments_lexer": "ipython3",
   "version": "3.6.3"
  }
 },
 "nbformat": 4,
 "nbformat_minor": 2
}
